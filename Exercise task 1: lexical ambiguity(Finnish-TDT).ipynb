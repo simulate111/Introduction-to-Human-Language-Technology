{
  "nbformat": 4,
  "nbformat_minor": 0,
  "metadata": {
    "colab": {
      "provenance": [],
      "authorship_tag": "ABX9TyO2yMvN5aZmpfkXW9SAxBdV",
      "include_colab_link": true
    },
    "kernelspec": {
      "name": "python3",
      "display_name": "Python 3"
    },
    "language_info": {
      "name": "python"
    }
  },
  "cells": [
    {
      "cell_type": "markdown",
      "metadata": {
        "id": "view-in-github",
        "colab_type": "text"
      },
      "source": [
        "<a href=\"https://colab.research.google.com/github/simulate111/Introduction-to-Human-Language-Technology/blob/main/Exercise%20task%201%3A%20lexical%20ambiguity(Finnish-TDT).ipynb\" target=\"_parent\"><img src=\"https://colab.research.google.com/assets/colab-badge.svg\" alt=\"Open In Colab\"/></a>"
      ]
    },
    {
      "cell_type": "code",
      "source": [
        "!wget https://github.com/UniversalDependencies/UD_Finnish-TDT/raw/master/fi_tdt-ud-train.conllu\n"
      ],
      "metadata": {
        "colab": {
          "base_uri": "https://localhost:8080/"
        },
        "id": "Lq1cE8mfOp6i",
        "outputId": "86cc6a65-031f-43ae-b640-6fadb0897c1c"
      },
      "execution_count": 25,
      "outputs": [
        {
          "output_type": "stream",
          "name": "stdout",
          "text": [
            "--2024-03-15 22:32:29--  https://github.com/UniversalDependencies/UD_Finnish-TDT/raw/master/fi_tdt-ud-train.conllu\n",
            "Resolving github.com (github.com)... 20.27.177.113\n",
            "Connecting to github.com (github.com)|20.27.177.113|:443... connected.\n",
            "HTTP request sent, awaiting response... 302 Found\n",
            "Location: https://raw.githubusercontent.com/UniversalDependencies/UD_Finnish-TDT/master/fi_tdt-ud-train.conllu [following]\n",
            "--2024-03-15 22:32:29--  https://raw.githubusercontent.com/UniversalDependencies/UD_Finnish-TDT/master/fi_tdt-ud-train.conllu\n",
            "Resolving raw.githubusercontent.com (raw.githubusercontent.com)... 185.199.108.133, 185.199.109.133, 185.199.110.133, ...\n",
            "Connecting to raw.githubusercontent.com (raw.githubusercontent.com)|185.199.108.133|:443... connected.\n",
            "HTTP request sent, awaiting response... 200 OK\n",
            "Length: 13373618 (13M) [text/plain]\n",
            "Saving to: ‘fi_tdt-ud-train.conllu.10’\n",
            "\n",
            "fi_tdt-ud-train.con 100%[===================>]  12.75M  37.2MB/s    in 0.3s    \n",
            "\n",
            "2024-03-15 22:32:30 (37.2 MB/s) - ‘fi_tdt-ud-train.conllu.10’ saved [13373618/13373618]\n",
            "\n"
          ]
        }
      ]
    },
    {
      "cell_type": "code",
      "source": [
        "# Read the contents of the file\n",
        "with open(\"fi_tdt-ud-train.conllu\", \"r\", encoding=\"utf-8\") as file:\n",
        "    conllu_content = file.read()\n",
        "\n",
        "# Tokenize based on whitespace\n",
        "tokens = conllu_content.split()\n",
        "\n",
        "# Print the first few tokens as an example\n",
        "print(tokens[:10])  # Print the first 10 tokens\n"
      ],
      "metadata": {
        "colab": {
          "base_uri": "https://localhost:8080/"
        },
        "id": "GwdBeWz6Ot9c",
        "outputId": "caec3b8e-56a9-4447-a235-00890bdff7b7"
      },
      "execution_count": 26,
      "outputs": [
        {
          "output_type": "stream",
          "name": "stdout",
          "text": [
            "['#', 'sent_id', '=', 'b101.1', '#', 'text', '=', 'Kävelyreitti', 'III', '1']\n"
          ]
        }
      ]
    },
    {
      "cell_type": "code",
      "source": [
        "# Assuming tokens are already defined\n",
        "\n",
        "# Define the number of lines to print\n",
        "num_lines = 10\n",
        "\n",
        "# Iterate through tokens and print the first num_lines lines\n",
        "for line in tokens[:num_lines]:\n",
        "    print(line)\n"
      ],
      "metadata": {
        "colab": {
          "base_uri": "https://localhost:8080/"
        },
        "id": "flu_n7wSO_k0",
        "outputId": "14d95bbd-d3be-4c04-9282-659525668bff"
      },
      "execution_count": 27,
      "outputs": [
        {
          "output_type": "stream",
          "name": "stdout",
          "text": [
            "#\n",
            "sent_id\n",
            "=\n",
            "b101.1\n",
            "#\n",
            "text\n",
            "=\n",
            "Kävelyreitti\n",
            "III\n",
            "1\n"
          ]
        }
      ]
    },
    {
      "cell_type": "code",
      "source": [
        "import re\n",
        "\n",
        "# Assuming 'tokens' contains the list of tokenized words\n",
        "\n",
        "# Remove punctuations\n",
        "tokenized = [re.sub(r'[^\\w\\s]', '', token) for token in tokens]\n",
        "\n",
        "# Handle clitics like \"n't\"\n",
        "tokenized = [re.sub(r\"(n't)\", r\" \\1\", token) for token in tokenized]\n",
        "\n",
        "# Remove numeric numbers\n",
        "tokenized = [token for token in tokenized if not re.match(r'\\d+', token)]\n",
        "\n",
        "# Remove empty lines\n",
        "tokenized = [line for line in tokenized if line.strip()]\n",
        "\n",
        "# Print 10 lines\n",
        "num_lines = 10  # Number of lines to print\n",
        "for line in tokenized[:num_lines]:\n",
        "    print(line)\n"
      ],
      "metadata": {
        "colab": {
          "base_uri": "https://localhost:8080/"
        },
        "id": "OjoSTj6ePXkK",
        "outputId": "293f7cff-0a17-4f19-ee89-33728007ad27"
      },
      "execution_count": 33,
      "outputs": [
        {
          "output_type": "stream",
          "name": "stdout",
          "text": [
            "sent_id\n",
            "b1011\n",
            "text\n",
            "Kävelyreitti\n",
            "III\n",
            "Kävelyreitti\n",
            "kävelyreitti\n",
            "NOUN\n",
            "N\n",
            "CaseNomNumberSing\n"
          ]
        }
      ]
    },
    {
      "cell_type": "code",
      "source": [],
      "metadata": {
        "id": "BafkNfyePwlA"
      },
      "execution_count": null,
      "outputs": []
    }
  ]
}