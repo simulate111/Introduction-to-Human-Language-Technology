{
  "cells": [
    {
      "cell_type": "markdown",
      "metadata": {
        "id": "view-in-github",
        "colab_type": "text"
      },
      "source": [
        "<a href=\"https://colab.research.google.com/github/simulate111/Introduction-to-Human-Language-Technology/blob/main/Excercise%20task%2010%3A%20word%20embeddings.ipynb\" target=\"_parent\"><img src=\"https://colab.research.google.com/assets/colab-badge.svg\" alt=\"Open In Colab\"/></a>"
      ]
    },
    {
      "cell_type": "markdown",
      "metadata": {
        "id": "ziutcOnEWFMO"
      },
      "source": [
        "## Text Segmentation\n",
        "\n",
        "* **Segmentation:** Divide bigger units into smaller ones\n",
        "* In many cases text needs to be segmented into sentences and/or words\n",
        "* Why?\n",
        "\n",
        "\n",
        "* **Tokenization / word segmentation:** Segment text into individual tokens\n",
        "* **Sentence splitting / sentence segmentation:** Segment text into individual sentences"
      ]
    },
    {
      "cell_type": "markdown",
      "metadata": {
        "id": "9TXhAZEGWFMQ"
      },
      "source": [
        "```\n",
        "Extremely bad customer service\n",
        "\n",
        "Do not go to this salon, especially if you have to get your hair straightened. They did a very bad job with my hair\n",
        "and were extremely rude when I went back to ask them why it didn't work for my hair. Rude, insensitive, discourteous people!!!!!\n",
        "```\n",
        "(*Text source: https://github.com/UniversalDependencies/UD_English-EWT*)\n",
        "\n",
        "\n",
        "**Tokenized:**\n",
        "```\n",
        "Extremely bad customer service\n",
        "\n",
        "Do not go to this salon , especially if you have to get your hair straightened . They did a very bad job with my hair\n",
        "and were extremely rude when I went back to ask them why it did n't work for my hair . Rude , insensitive , discourteous people !!!!!\n",
        "```\n",
        "\n",
        "**Sentence splitted:**\n",
        "```\n",
        "Extremely bad customer service\n",
        "\n",
        "Do not go to this salon, especially if you have to get your hair straightened.\n",
        "\n",
        "They did a very bad job with my hair and were extremely rude when I went back to ask them why it didn't work for my hair.\n",
        "\n",
        "Rude, insensitive, discourteous people!!!!!\n",
        "```"
      ]
    },
    {
      "cell_type": "markdown",
      "metadata": {
        "id": "E4dd60DpWFMR"
      },
      "source": [
        "### Tokenization: HOW?\n",
        "\n",
        "* **Naive method 1:** Split from whitespace characters"
      ]
    },
    {
      "cell_type": "code",
      "execution_count": 1,
      "metadata": {
        "id": "tdfax4N4WFMR",
        "outputId": "03f686fa-47ac-404b-bd22-0098d54753e2",
        "colab": {
          "base_uri": "https://localhost:8080/"
        }
      },
      "outputs": [
        {
          "output_type": "stream",
          "name": "stdout",
          "text": [
            "Extremely\n",
            "bad\n",
            "customer\n",
            "service\n",
            "Do\n",
            "not\n",
            "go\n",
            "to\n",
            "this\n",
            "salon,\n",
            "especially\n",
            "if\n",
            "you\n",
            "have\n",
            "to\n",
            "get\n",
            "your\n",
            "hair\n",
            "straightened.\n",
            "They\n",
            "did\n",
            "a\n",
            "very\n",
            "bad\n",
            "job\n",
            "with\n",
            "my\n",
            "hair\n",
            "and\n",
            "were\n",
            "extremely\n",
            "rude\n",
            "when\n",
            "I\n",
            "went\n",
            "back\n",
            "to\n",
            "ask\n",
            "them\n",
            "why\n",
            "it\n",
            "didn't\n",
            "work\n",
            "for\n",
            "my\n",
            "hair.\n",
            "Rude,\n",
            "insensitive,\n",
            "discourteous\n",
            "people!!!!!\n"
          ]
        }
      ],
      "source": [
        "text=\"\"\"Extremely bad customer service\n",
        "\n",
        "Do not go to this salon, especially if you have to get your hair straightened. \\\n",
        "They did a very bad job with my hair and were extremely rude when I went back to \\\n",
        "ask them why it didn't work for my hair. Rude, insensitive, discourteous people!!!!!\"\"\"\n",
        "\n",
        "tokenized_text = text.split() # split(): Return a list of the words in the string, using whitespace as the delimiter string.\n",
        "\n",
        "for w in tokenized_text:\n",
        "    print(w)"
      ]
    },
    {
      "cell_type": "markdown",
      "metadata": {
        "id": "cXT_iPR2WFMS"
      },
      "source": [
        "* **Naive method 2:** Split from whitespace characters, take into account punctuation\n",
        "* Regular expressions:\n",
        "    * Define search patters\n",
        "    * Find these patterns from raw text, or find-and-replace if needed\n",
        "* Find all punctuation characters, and replace with whitespace+punctuation character\n",
        "    * *book.* --> *book .*\n",
        "    * *people!!!!!* --> *people !!!!!*\n",
        "    * How about clitics in English? [don't, can't, cannot?]\n",
        "    * 2-(14-hydroxypentadecyl)-4-methyl-5-oxo-2,5-dihydrofuran-3-carboxylic acid ???\n",
        "    * Usually it's not that important how exactly you do it, just be consistent!\n",
        "        * consistent = always do it the same way\n",
        "        * If you download two datasets which are already tokenized, the tokenization may differ and you need to be aware of it!"
      ]
    },
    {
      "cell_type": "code",
      "execution_count": 2,
      "metadata": {
        "id": "b0omWr9QWFMT",
        "outputId": "de7ee022-d94c-443c-9ea7-77e2b7c3adb6",
        "colab": {
          "base_uri": "https://localhost:8080/"
        }
      },
      "outputs": [
        {
          "output_type": "stream",
          "name": "stdout",
          "text": [
            "Extremely bad customer service\n",
            "\n",
            "Do not go to this salon , especially if you have to get your hair straightened . They did a very bad job with my hair and were extremely rude when I went back to ask them why it did n't work for my hair . Rude , insensitive , discourteous people !!!!!\n"
          ]
        }
      ],
      "source": [
        "import re\n",
        "\n",
        "tokenized = re.sub(r'([.,!?]+)', r' \\1', text) # replace . , ! ? with whitespace+character(s), '+' means one or more\n",
        "tokenized = re.sub(r\"(n't)\", r\" \\1\", tokenized) # clitics\n",
        "\n",
        "print(tokenized) # Note: this is still string, apply simple whitespace splitting to get a list of tokens"
      ]
    },
    {
      "cell_type": "markdown",
      "metadata": {
        "id": "WvF1NWsNWFMX"
      },
      "source": [
        "* **Naive method 2** works quite well for English, Finnish, Swedish...\n",
        "    * Approx. 97-99% correct on clean text\n",
        "    * Many tokenizers are just a large number (in the hundreds) regular expressions\n",
        "\n",
        "\n",
        "* How about other languages, does it work for all?\n",
        "\n",
        ".\n",
        "\n",
        ".\n",
        "\n",
        ".\n",
        "\n",
        ".\n",
        "\n",
        ".\n",
        "\n",
        ".\n",
        "\n",
        ".\n",
        "\n",
        ".\n",
        "\n",
        "**Nope! Why not?**\n",
        "\n",
        ".\n",
        "\n",
        ".\n",
        "\n",
        ".\n",
        "\n",
        ".\n",
        "\n",
        ".\n",
        "\n",
        ".\n",
        "\n",
        ".\n",
        "\n",
        "* All languages do not use whitespace or punctuation, or the meaning of those may be different.\n",
        "* Chinese, Thai, Vietnamese\n",
        "\n",
        "![tokenization.png](https://github.com/TurkuNLP/intro-to-nlp/blob/master/figs/tokenization.png?raw=1)"
      ]
    },
    {
      "cell_type": "markdown",
      "metadata": {
        "id": "XfQmIvngWFMY"
      },
      "source": [
        "* **Naive algorithm:**\n",
        "    1) Build a vocabulary for the language\n",
        "    2) Start from the beginning of the text, and find the longest matching word\n",
        "    3) Split the matching word and continue from the next remaining character\n",
        "* *the table down there* --> *thetabledownthere* --> *theta bled own there*\n",
        "    * Does not work well for English, but in Chinese words are usually 2-4 characters long, so the simple algorithm works better\n",
        "    * Where to get the dictionary?\n",
        "    \n",
        "**Tokenization: State-of-the-art**\n",
        "* State-of-the-art = The best existing method currently known\n",
        "* Machine learning\n",
        "    * Collect raw (untokenized) text for the language you are interested in, and manually tokenize it.\n",
        "    * Train a classifier\n",
        "    * The trained classifier can be used to tokenize new text"
      ]
    },
    {
      "cell_type": "markdown",
      "metadata": {
        "id": "5xMDiYq9WFMY"
      },
      "source": [
        "#### Sentence splitting: HOW?\n",
        "\n",
        "* **Naive method 1:** What kind of punctuation characters end the sentence?\n",
        "    * yes: . ! ?\n",
        "    * no: ,\n",
        "* Define a list of sentence-final punctuation, and always split on those.\n",
        "* Problems?\n",
        "\n",
        "![sentence_splitting.png](https://github.com/TurkuNLP/intro-to-nlp/blob/master/figs/sentence_splitting.png?raw=1)\n",
        "\n",
        "\n",
        "* **Solution 1:** Define a list of rules to identify when punctuation does not end a sentence\n",
        "    * List of known abbreviations, list of regular expression to regocnize numbers etc. (*The cost was approx. 1.5 million euros.*)\n",
        "    * How about missing punctuation? Other languages?\n",
        "    \n",
        "**Sentence splitting: State-of-the-art**\n",
        "* Machine learning\n",
        "    * Collect raw text for the language you are interested in, and manually sentence segment it.\n",
        "    * Train a classifier\n",
        "    * The trained classifier can be used to sentence segment new text\n",
        "    \n",
        "## Try UDPipe machine learned tokenizer and sentence splitter"
      ]
    },
    {
      "cell_type": "code",
      "execution_count": 3,
      "metadata": {
        "colab": {
          "base_uri": "https://localhost:8080/"
        },
        "id": "ce6O2NqgWFMY",
        "outputId": "648e02e8-16a4-45ca-8df5-8c8c896ad79f"
      },
      "outputs": [
        {
          "output_type": "stream",
          "name": "stdout",
          "text": [
            "--2024-04-13 15:54:30--  https://github.com/TurkuNLP/intro-to-nlp/raw/master/Data/en.segmenter.udpipe\n",
            "Resolving github.com (github.com)... 140.82.113.4\n",
            "Connecting to github.com (github.com)|140.82.113.4|:443... connected.\n",
            "HTTP request sent, awaiting response... 302 Found\n",
            "Location: https://raw.githubusercontent.com/TurkuNLP/intro-to-nlp/master/Data/en.segmenter.udpipe [following]\n",
            "--2024-04-13 15:54:30--  https://raw.githubusercontent.com/TurkuNLP/intro-to-nlp/master/Data/en.segmenter.udpipe\n",
            "Resolving raw.githubusercontent.com (raw.githubusercontent.com)... 185.199.108.133, 185.199.109.133, 185.199.110.133, ...\n",
            "Connecting to raw.githubusercontent.com (raw.githubusercontent.com)|185.199.108.133|:443... connected.\n",
            "HTTP request sent, awaiting response... 200 OK\n",
            "Length: 17394186 (17M) [application/octet-stream]\n",
            "Saving to: ‘en.segmenter.udpipe’\n",
            "\n",
            "en.segmenter.udpipe 100%[===================>]  16.59M  --.-KB/s    in 0.1s    \n",
            "\n",
            "2024-04-13 15:54:31 (113 MB/s) - ‘en.segmenter.udpipe’ saved [17394186/17394186]\n",
            "\n",
            "Collecting ufal.udpipe\n",
            "  Downloading ufal.udpipe-1.3.1.1-cp310-cp310-manylinux_2_17_x86_64.manylinux2014_x86_64.whl (936 kB)\n",
            "\u001b[2K     \u001b[90m━━━━━━━━━━━━━━━━━━━━━━━━━━━━━━━━━━━━━━━━\u001b[0m \u001b[32m936.8/936.8 kB\u001b[0m \u001b[31m4.6 MB/s\u001b[0m eta \u001b[36m0:00:00\u001b[0m\n",
            "\u001b[?25hInstalling collected packages: ufal.udpipe\n",
            "Successfully installed ufal.udpipe-1.3.1.1\n"
          ]
        }
      ],
      "source": [
        "# Let's try to tokenize and sentence split a small dataset with UDPipe machine learned segmenter!\n",
        "# Documentation: https://ufal.mff.cuni.cz/udpipe/users-manual\n",
        "# Training data:\n",
        "# Finnish (intro-to-nlp/Data/fi.segmenter.udpipe): https://github.com/UniversalDependencies/UD_Finnish-TDT v.2.2\n",
        "# English (intro-to-nlp/Data/en.segmenter.udpipe): https://github.com/UniversalDependencies/UD_English-EWT v.2.2\n",
        "# Swedish (intro-to-nlp/Data/sv.segmenter.udpipe): https://github.com/UniversalDependencies/UD_Swedish-Talbanken v.2.2\n",
        "\n",
        "!wget -nc https://github.com/TurkuNLP/intro-to-nlp/raw/master/Data/en.segmenter.udpipe\n",
        "\n",
        "!pip3 install ufal.udpipe\n",
        "\n",
        "import ufal.udpipe as udpipe\n",
        "\n",
        "model = udpipe.Model.load(\"en.segmenter.udpipe\")\n",
        "pipeline = udpipe.Pipeline(model,\"tokenize\",\"none\",\"none\",\"horizontal\") # horizontal: returns one sentence per line, with words separated by a single space\n",
        "\n"
      ]
    },
    {
      "cell_type": "code",
      "source": [
        "document=\"\"\"\n",
        "The North American X-15 is a hypersonic rocket-powered aircraft. It was operated by the United States\n",
        "Air Force and the National Aeronautics and Space Administration as part of the X-plane series of\n",
        "experimental aircraft. The X-15 set speed and altitude records in the 1960s, reaching\n",
        "the edge of outer space and returning with valuable data used in aircraft and spacecraft\n",
        "design. The X-15's highest speed, 4,520 miles per hour (7,274 km/h; 2,021 m/s),[1] was\n",
        "achieved on 3 October 1967,[2] when William J. Knight flew at Mach 6.7 at an altitude of\n",
        "102,100 feet (31,120 m), or 19.34 miles. This set the official world record for the highest\n",
        "speed ever recorded by a crewed, powered aircraft, which remains unbroken.[3][4]\n",
        "\n",
        "During the X-15 program, 12 pilots flew a combined 199 flights.[1] Of these,\n",
        "8 pilots flew a combined 13 flights which met the Air Force spaceflight criterion\n",
        "by exceeding the altitude of 50 miles (80 km), thus qualifying these pilots as being\n",
        "astronauts; of those 13 flights, two (flown by the same civilian pilot) met the FAI\n",
        "definition (100 kilometres (62 mi)) of outer space. The 5 Air Force pilots qualified\n",
        "for military astronaut wings immediately, while the 3 civilian pilots were eventually\n",
        "awarded NASA astronaut wings in 2005, 35 years after the last X-15 flight.[5][6]\n",
        "\"\"\"\n",
        "\n",
        "segmented_document = pipeline.process(document)\n",
        "\n",
        "print(segmented_document)"
      ],
      "metadata": {
        "id": "f_b3xiM2cghl",
        "outputId": "0783a852-5a93-4092-edc3-b9cec5d8d1d1",
        "colab": {
          "base_uri": "https://localhost:8080/"
        }
      },
      "execution_count": 4,
      "outputs": [
        {
          "output_type": "stream",
          "name": "stdout",
          "text": [
            "The North American X - 15 is a hypersonic rocket - powered aircraft .\n",
            "It was operated by the United States Air Force and the National Aeronautics and Space Administration as part of the X - plane series of experimental aircraft .\n",
            "The X - 15 set speed and altitude records in the 1960s , reaching the edge of outer space and returning with valuable data used in aircraft and spacecraft design .\n",
            "The X - 15 's highest speed , 4,520 miles per hour ( 7,274 km/h ; 2,021 m/s ) ,[ 1 ] was achieved on 3 October 1967 , [ 2 ] when William J. Knight flew at Mach 6.7 at an altitude of 102,100 feet ( 31,120 m ) , or 19.34 miles .\n",
            "This set the official world record for the highest speed ever recorded by a crewed , powered aircraft , which remains unbroken .\n",
            "[ 3 ] [ 4 ]\n",
            "During the X - 15 program , 12 pilots flew a combined 199 flights .\n",
            "[ 1 ]\n",
            "Of these , 8 pilots flew a combined 13 flights which met the Air Force spaceflight criterion by exceeding the altitude of 50 miles ( 80 km ) , thus qualifying these pilots as being astronauts ; of those 13 flights , two ( flown by the same civilian pilot ) met the FAI definition ( 100 kilometres ( 62 mi ) ) of outer space .\n",
            "The 5 Air Force pilots qualified for military astronaut wings immediately , while the 3 civilian pilots were eventually awarded NASA astronaut wings in 2005 , 35 years after the last X - 15 flight .\n",
            "[ 5 ] [ 6 ]\n",
            "\n"
          ]
        }
      ]
    },
    {
      "cell_type": "markdown",
      "metadata": {
        "id": "M9BtnHDeWFMZ"
      },
      "source": [
        "## 4. Word frequencies\n",
        "\n",
        "* How many times each word appears in the corpus?\n",
        "* How many unique words the corpus has?\n",
        "    * vocabulary size"
      ]
    },
    {
      "cell_type": "code",
      "source": [
        "!wget -nc https://github.com/TurkuNLP/intro-to-nlp/raw/master/Data/imdb_train.json\n",
        "\n",
        "import json # JSON encoder and decoder: store python data structures (e.g. lists and dictionaries) as strings\n",
        "\n",
        "with open(\"imdb_train.json\", \"rt\", encoding=\"utf-8\") as f:\n",
        "    data = json.load(f)\n",
        "\n",
        "print(\"Data type:\", type(data))\n",
        "print(\"First item type:\", type(data[0]))\n",
        "print(\"First item:\", data[0])"
      ],
      "metadata": {
        "colab": {
          "base_uri": "https://localhost:8080/"
        },
        "id": "5mOLvytzhfr_",
        "outputId": "1c100664-22b1-47e6-abfd-c60969df0bf5"
      },
      "execution_count": 5,
      "outputs": [
        {
          "output_type": "stream",
          "name": "stdout",
          "text": [
            "--2024-04-13 15:54:48--  https://github.com/TurkuNLP/intro-to-nlp/raw/master/Data/imdb_train.json\n",
            "Resolving github.com (github.com)... 140.82.113.4\n",
            "Connecting to github.com (github.com)|140.82.113.4|:443... connected.\n",
            "HTTP request sent, awaiting response... 302 Found\n",
            "Location: https://raw.githubusercontent.com/TurkuNLP/intro-to-nlp/master/Data/imdb_train.json [following]\n",
            "--2024-04-13 15:54:48--  https://raw.githubusercontent.com/TurkuNLP/intro-to-nlp/master/Data/imdb_train.json\n",
            "Resolving raw.githubusercontent.com (raw.githubusercontent.com)... 185.199.110.133, 185.199.109.133, 185.199.111.133, ...\n",
            "Connecting to raw.githubusercontent.com (raw.githubusercontent.com)|185.199.110.133|:443... connected.\n",
            "HTTP request sent, awaiting response... 200 OK\n",
            "Length: 33944099 (32M) [text/plain]\n",
            "Saving to: ‘imdb_train.json’\n",
            "\n",
            "imdb_train.json     100%[===================>]  32.37M   171MB/s    in 0.2s    \n",
            "\n",
            "2024-04-13 15:54:49 (171 MB/s) - ‘imdb_train.json’ saved [33944099/33944099]\n",
            "\n",
            "Data type: <class 'list'>\n",
            "First item type: <class 'dict'>\n",
            "First item: {'class': 'pos', 'text': \"With all this stuff going down at the moment with MJ i've started listening to his music, watching the odd documentary here and there, watched The Wiz and watched Moonwalker again. Maybe i just want to get a certain insight into this guy who i thought was really cool in the eighties just to maybe make up my mind whether he is guilty or innocent. Moonwalker is part biography, part feature film which i remember going to see at the cinema when it was originally released. Some of it has subtle messages about MJ's feeling towards the press and also the obvious message of drugs are bad m'kay.  Visually impressive but of course this is all about Michael Jackson so unless you remotely like MJ in anyway then you are going to hate this and find it boring. Some may call MJ an egotist for consenting to the making of this movie BUT MJ and most of his fans would say that he made it for the fans which if true is really nice of him.  The actual feature film bit when it finally starts is only on for 20 minutes or so excluding the Smooth Criminal sequence and Joe Pesci is convincing as a psychopathic all powerful drug lord. Why he wants MJ dead so bad is beyond me. Because MJ overheard his plans? Nah, Joe Pesci's character ranted that he wanted people to know it is he who is supplying drugs etc so i dunno, maybe he just hates MJ's music.  Lots of cool things in this like MJ turning into a car and a robot and the whole Speed Demon sequence. Also, the director must have had the patience of a saint when it came to filming the kiddy Bad sequence as usually directors hate working with one kid let alone a whole bunch of them performing a complex dance scene.  Bottom line, this movie is for people who like MJ on one level or another (which i think is most people). If not, then stay away. It does try and give off a wholesome message and ironically MJ's bestest buddy in this movie is a girl! Michael Jackson is truly one of the most talented people ever to grace this planet but is he guilty? Well, with all the attention i've gave this subject....hmmm well i don't know because people can be different behind closed doors, i know this for a fact. He is either an extremely nice but stupid guy or one of the most sickest liars. I hope he is not the latter.\"}\n"
          ]
        }
      ]
    },
    {
      "cell_type": "code",
      "execution_count": 6,
      "metadata": {
        "id": "KaPTwF3NWFMa",
        "outputId": "5a46152f-f83b-46f8-eba8-705dca30002c",
        "colab": {
          "base_uri": "https://localhost:8080/"
        }
      },
      "outputs": [
        {
          "output_type": "stream",
          "name": "stderr",
          "text": [
            "100%|██████████| 1000/1000 [00:56<00:00, 17.59it/s]"
          ]
        },
        {
          "output_type": "stream",
          "name": "stdout",
          "text": [
            "Most common tokens: [('the', 11464), (',', 10973), ('.', 10515), ('a', 6291), ('and', 6269), ('of', 5723), ('to', 5221), ('is', 4310), ('in', 3421), ('I', 3115), ('it', 3101), ('that', 2723), ('\"', 2633), (\"'s\", 2432), ('this', 2287), ('\\\\', 2249), ('was', 2013), ('-', 1980), ('with', 1812), ('as', 1711)]\n",
            "Vocabulary size: 21940\n"
          ]
        },
        {
          "output_type": "stream",
          "name": "stderr",
          "text": [
            "\n"
          ]
        }
      ],
      "source": [
        "from collections import Counter\n",
        "import tqdm\n",
        "\n",
        "token_counter = Counter()\n",
        "for doc in tqdm.tqdm(data[:1000]): # IMDB documents\n",
        "    tokenized = pipeline.process(doc[\"text\"])\n",
        "    tokens = tokenized.split() # after segmenter, we can do whitespace splitting\n",
        "    token_counter.update(tokens)\n",
        "\n",
        "print(\"Most common tokens:\", token_counter.most_common(20))\n",
        "print(\"Vocabulary size:\", len(token_counter))"
      ]
    },
    {
      "cell_type": "markdown",
      "metadata": {
        "id": "UI4Tme-MWFMb"
      },
      "source": [
        "### Stop words\n",
        "\n",
        "* Commonly used functional words with little semantic meaning\n",
        "* Typically the most frequent words in the corpus\n",
        "* The idea is to densify the data by removing these \"meaningless\" words"
      ]
    },
    {
      "cell_type": "code",
      "execution_count": 7,
      "metadata": {
        "id": "cXQF3pzdWFMb",
        "outputId": "afb2849d-03c8-4dc8-d27b-eb1eb3541e89",
        "colab": {
          "base_uri": "https://localhost:8080/"
        }
      },
      "outputs": [
        {
          "output_type": "stream",
          "name": "stdout",
          "text": [
            "Number of tokens: 47\n",
            "Tokens: [(\"'s\", 2432), ('film', 1630), ('movie', 1596), (\"n't\", 1237), ('one', 1004), ('like', 729), (\"'\", 685), ('good', 634), ('would', 527), ('time', 488), ('really', 445), ('even', 430), ('story', 425), ('see', 397), ('could', 383), ('get', 364), ('people', 361), ('much', 345), ('bad', 340), ('well', 334), ('great', 326), ('made', 311), ('first', 310), ('way', 307), ('make', 305), ('also', 299), ('think', 279), ('movies', 278), ('films', 275), ('characters', 275), ('many', 268), ('character', 267), ('show', 266), ('acting', 250), ('ever', 246), ('watch', 241), ('seen', 240), ('plot', 240), ('love', 229), ('never', 225), ('little', 220), ('best', 218), ('say', 217), ('two', 216), ('know', 214), ('life', 213), ('end', 206)]\n"
          ]
        },
        {
          "output_type": "stream",
          "name": "stderr",
          "text": [
            "[nltk_data] Downloading package stopwords to /root/nltk_data...\n",
            "[nltk_data]   Unzipping corpora/stopwords.zip.\n"
          ]
        }
      ],
      "source": [
        "import nltk\n",
        "nltk.download('stopwords') # download the stopwords dataset\n",
        "\n",
        "from nltk.corpus import stopwords\n",
        "\n",
        "# take 150 most common words from the IMDB corpus and filter out stop words and punctuation\n",
        "filtered_tokens = []\n",
        "punctuation_chars = '. , : ( ) ! ? \" = & - ; ... \\\\ '.split() # list of punctuation symbols to ignore\n",
        "for word, count in token_counter.most_common(150):\n",
        "    if word.lower() in stopwords.words(\"english\") or word in punctuation_chars:\n",
        "        continue\n",
        "    filtered_tokens.append((word, count))\n",
        "print(\"Number of tokens:\", len(filtered_tokens))\n",
        "print(\"Tokens:\", filtered_tokens)"
      ]
    },
    {
      "cell_type": "markdown",
      "metadata": {
        "id": "dPqSB58sWFMc"
      },
      "source": [
        "Quotes from the internet search:\n",
        "\n",
        "* *A stop word is a commonly used word (such as “the”, “a”, “an”, “in”) that a search engine has been programmed to ignore.* (geeksforgeeks.org)\n",
        "* *Stop words are words which are filtered out before processing of natural language data (text).* (Wikipedia)\n",
        "\n",
        "**Not necessarily true with modern machine learning techniques!**\n",
        "\n",
        "* Another approach: Do not remove anything but give a higher importance to more meaningful words\n",
        "\n",
        "\n",
        "### tf-idf weighting\n",
        "\n",
        "* TF = term frequency *tf(t, d)*, how many times the term *t* appears in the **document** *d*\n",
        "* DF = document frequency *df(t)*, in how many documents (out of all documents) the term *t* appears\n",
        "* IDF = inverse document frequency, *m/df(t)*, where *m* is the total number of documents in your collection\n",
        "* TF-IDF = **tf(t, d) * idf(t)**\n",
        "    * Usually calculated using logaritmic scale --> tf(t, d) * log(idf(t)) or log(1 + tf(t,d)) * log(idf(t))\n",
        "    \n",
        "| ![log.png](https://github.com/TurkuNLP/intro-to-nlp/blob/master/figs/log.png?raw=1) |\n",
        "|:--:|\n",
        "| *Source: Wikipedia* |\n",
        "    \n",
        "* common in information retrieval, also used in document classification\n",
        "* scale down the impact of tokens that occur very frequently in many documents and are hence empirically less informative than words that occur in a small fraction of the documents\n",
        "\n",
        "### Examples of idf-weights calculated using natural logarithm (ln) and a Finnish corpus\n",
        "\n",
        "![idf.png](https://github.com/TurkuNLP/intro-to-nlp/blob/master/figs/idf.png?raw=1)"
      ]
    },
    {
      "cell_type": "markdown",
      "metadata": {
        "id": "8Rv5xWXSWFMc"
      },
      "source": [
        "## 5. Text Normalization\n",
        "\n",
        "* Remove certain \"randomness\" from the data\n",
        "* Try to reduce uncommon cases\n",
        "* Normalization techniques involve:\n",
        "  * Tokenization\n",
        "  * Punctuation removal\n",
        "  * Capitalization / Lowercasing\n",
        "  * Accent removal\n",
        "  * Stemming / Lemmatization\n",
        "  * ...\n",
        "\n",
        "### Stemming and lemmatization\n",
        "\n",
        "* Densify data by removing inflectional variation\n",
        "\n",
        "* **Stemming:** Determine the word root by removing inflectional affixes\n",
        "    * play, plays, playing, played --> play\n",
        "    * activate, active, activated, activation --> activ\n",
        "    * koira, koiran, koiralla, koirilla --> koir\n",
        "    * koirasta --> koir\n",
        "* Risk of overstemming or understemming: two separate inflected words are stemmed to the same root, or inflections of the same word are stemmed to different roots\n",
        "* Does not take into account the context (lives --> live / life, koirasta --> koira / koiras)\n",
        "\n",
        "\n",
        "* **Lemmatization:** Determine the base (dictionary) form of the word\n",
        "    * play, plays, playing, played --> play\n",
        "    * activate, active, activated, activation --> activate, active, activate, activation\n",
        "    * koira, koiran, koiralla, koirilla --> koira\n",
        "    * koirasta --> koira / koiras\n",
        "* Generally better, but also computationally heavier and more complex method"
      ]
    },
    {
      "cell_type": "code",
      "execution_count": 8,
      "metadata": {
        "id": "x2yfKSNkWFMd",
        "outputId": "5bf2234c-0511-4649-9c09-28f801520ded",
        "colab": {
          "base_uri": "https://localhost:8080/"
        }
      },
      "outputs": [
        {
          "output_type": "stream",
          "name": "stdout",
          "text": [
            "with all this stuff go down at the moment with mj i'v start listen to his music, watch the odd documentari here and there, watch the wiz and watch moonwalk again. mayb i just want to get a certain insight into this guy who i thought was realli cool in the eighti just to mayb make up my mind whether he is guilti or innocent. moonwalk is part biography, part featur film which i rememb go to see at the cinema when it was origin released. some of it has subtl messag about mj feel toward the press and also the obvious messag of drug are bad m'kay. visual impress but of cours this is all about michael jackson so unless you remot like mj in anyway then you are go to hate this and find it boring. some may call mj an egotist for consent to the make of this movi but mj and most of his fan would say that he made it for the fan which if true is realli nice of him. the actual featur film bit when it final start is onli on for 20 minut or so exclud the smooth crimin sequenc and joe pesci is convinc as a psychopath all power drug lord. whi he want mj dead so bad is beyond me. becaus mj overheard his plans? nah, joe pesci charact rant that he want peopl to know it is he who is suppli drug etc so i dunno, mayb he just hate mj music. lot of cool thing in this like mj turn into a car and a robot and the whole speed demon sequence. also, the director must have had the patienc of a saint when it came to film the kiddi bad sequenc as usual director hate work with one kid let alon a whole bunch of them perform a complex danc scene. bottom line, this movi is for peopl who like mj on one level or anoth (which i think is most people). if not, then stay away. it doe tri and give off a wholesom messag and iron mj bestest buddi in this movi is a girl! michael jackson is truli one of the most talent peopl ever to grace this planet but is he guilty? well, with all the attent i'v gave this subject....hmmm well i don't know becaus peopl can be differ behind close doors, i know this for a fact. he is either an extrem nice but stupid guy or one of the most sickest liars. i hope he is not the latter.\n"
          ]
        }
      ],
      "source": [
        "from nltk.stem.snowball import SnowballStemmer\n",
        "\n",
        "stemmer = SnowballStemmer(\"english\")\n",
        "\n",
        "print(\" \".join(stemmer.stem(w) for w in data[0][\"text\"].split()))\n"
      ]
    },
    {
      "cell_type": "code",
      "source": [],
      "metadata": {
        "id": "jAHseuydj21Z"
      },
      "execution_count": 8,
      "outputs": []
    },
    {
      "cell_type": "markdown",
      "source": [
        "# Full parsing\n",
        "\n",
        "* The most complex text preprocessing\n",
        "* Computationally heavy but gives most information\n",
        "* POS+morphological information\n",
        "* Lemma\n",
        "* Dependency relations (syntactic tree)\n"
      ],
      "metadata": {
        "id": "LlFA9fY-j3WZ"
      }
    },
    {
      "cell_type": "code",
      "source": [
        "!pip install trankit transformers"
      ],
      "metadata": {
        "id": "efC_iOA_1Awx",
        "outputId": "260dfa2e-c474-42ec-d7e8-249939b819a4",
        "colab": {
          "base_uri": "https://localhost:8080/"
        }
      },
      "execution_count": 9,
      "outputs": [
        {
          "output_type": "stream",
          "name": "stdout",
          "text": [
            "Collecting trankit\n",
            "  Downloading trankit-1.1.1-py3-none-any.whl (773 kB)\n",
            "\u001b[2K     \u001b[90m━━━━━━━━━━━━━━━━━━━━━━━━━━━━━━━━━━━━━━━━\u001b[0m \u001b[32m773.4/773.4 kB\u001b[0m \u001b[31m5.0 MB/s\u001b[0m eta \u001b[36m0:00:00\u001b[0m\n",
            "\u001b[?25hRequirement already satisfied: transformers in /usr/local/lib/python3.10/dist-packages (4.38.2)\n",
            "Requirement already satisfied: numpy in /usr/local/lib/python3.10/dist-packages (from trankit) (1.25.2)\n",
            "Requirement already satisfied: protobuf in /usr/local/lib/python3.10/dist-packages (from trankit) (3.20.3)\n",
            "Requirement already satisfied: requests in /usr/local/lib/python3.10/dist-packages (from trankit) (2.31.0)\n",
            "Requirement already satisfied: torch>=1.6.0 in /usr/local/lib/python3.10/dist-packages (from trankit) (2.2.1+cu121)\n",
            "Requirement already satisfied: tqdm>=4.27 in /usr/local/lib/python3.10/dist-packages (from trankit) (4.66.2)\n",
            "Collecting langid==1.1.6 (from trankit)\n",
            "  Downloading langid-1.1.6.tar.gz (1.9 MB)\n",
            "\u001b[2K     \u001b[90m━━━━━━━━━━━━━━━━━━━━━━━━━━━━━━━━━━━━━━━━\u001b[0m \u001b[32m1.9/1.9 MB\u001b[0m \u001b[31m32.5 MB/s\u001b[0m eta \u001b[36m0:00:00\u001b[0m\n",
            "\u001b[?25h  Preparing metadata (setup.py) ... \u001b[?25l\u001b[?25hdone\n",
            "Requirement already satisfied: filelock in /usr/local/lib/python3.10/dist-packages (from trankit) (3.13.4)\n",
            "Requirement already satisfied: tokenizers>=0.7.0 in /usr/local/lib/python3.10/dist-packages (from trankit) (0.15.2)\n",
            "Requirement already satisfied: regex!=2019.12.17 in /usr/local/lib/python3.10/dist-packages (from trankit) (2023.12.25)\n",
            "Requirement already satisfied: packaging in /usr/local/lib/python3.10/dist-packages (from trankit) (24.0)\n",
            "Requirement already satisfied: sentencepiece in /usr/local/lib/python3.10/dist-packages (from trankit) (0.1.99)\n",
            "Collecting sacremoses (from trankit)\n",
            "  Downloading sacremoses-0.1.1-py3-none-any.whl (897 kB)\n",
            "\u001b[2K     \u001b[90m━━━━━━━━━━━━━━━━━━━━━━━━━━━━━━━━━━━━━━━━\u001b[0m \u001b[32m897.5/897.5 kB\u001b[0m \u001b[31m60.4 MB/s\u001b[0m eta \u001b[36m0:00:00\u001b[0m\n",
            "\u001b[?25hRequirement already satisfied: huggingface-hub<1.0,>=0.19.3 in /usr/local/lib/python3.10/dist-packages (from transformers) (0.20.3)\n",
            "Requirement already satisfied: pyyaml>=5.1 in /usr/local/lib/python3.10/dist-packages (from transformers) (6.0.1)\n",
            "Requirement already satisfied: safetensors>=0.4.1 in /usr/local/lib/python3.10/dist-packages (from transformers) (0.4.2)\n",
            "Requirement already satisfied: fsspec>=2023.5.0 in /usr/local/lib/python3.10/dist-packages (from huggingface-hub<1.0,>=0.19.3->transformers) (2023.6.0)\n",
            "Requirement already satisfied: typing-extensions>=3.7.4.3 in /usr/local/lib/python3.10/dist-packages (from huggingface-hub<1.0,>=0.19.3->transformers) (4.11.0)\n",
            "Requirement already satisfied: sympy in /usr/local/lib/python3.10/dist-packages (from torch>=1.6.0->trankit) (1.12)\n",
            "Requirement already satisfied: networkx in /usr/local/lib/python3.10/dist-packages (from torch>=1.6.0->trankit) (3.3)\n",
            "Requirement already satisfied: jinja2 in /usr/local/lib/python3.10/dist-packages (from torch>=1.6.0->trankit) (3.1.3)\n",
            "Collecting nvidia-cuda-nvrtc-cu12==12.1.105 (from torch>=1.6.0->trankit)\n",
            "  Using cached nvidia_cuda_nvrtc_cu12-12.1.105-py3-none-manylinux1_x86_64.whl (23.7 MB)\n",
            "Collecting nvidia-cuda-runtime-cu12==12.1.105 (from torch>=1.6.0->trankit)\n",
            "  Using cached nvidia_cuda_runtime_cu12-12.1.105-py3-none-manylinux1_x86_64.whl (823 kB)\n",
            "Collecting nvidia-cuda-cupti-cu12==12.1.105 (from torch>=1.6.0->trankit)\n",
            "  Using cached nvidia_cuda_cupti_cu12-12.1.105-py3-none-manylinux1_x86_64.whl (14.1 MB)\n",
            "Collecting nvidia-cudnn-cu12==8.9.2.26 (from torch>=1.6.0->trankit)\n",
            "  Using cached nvidia_cudnn_cu12-8.9.2.26-py3-none-manylinux1_x86_64.whl (731.7 MB)\n",
            "Collecting nvidia-cublas-cu12==12.1.3.1 (from torch>=1.6.0->trankit)\n",
            "  Using cached nvidia_cublas_cu12-12.1.3.1-py3-none-manylinux1_x86_64.whl (410.6 MB)\n",
            "Collecting nvidia-cufft-cu12==11.0.2.54 (from torch>=1.6.0->trankit)\n",
            "  Using cached nvidia_cufft_cu12-11.0.2.54-py3-none-manylinux1_x86_64.whl (121.6 MB)\n",
            "Collecting nvidia-curand-cu12==10.3.2.106 (from torch>=1.6.0->trankit)\n",
            "  Using cached nvidia_curand_cu12-10.3.2.106-py3-none-manylinux1_x86_64.whl (56.5 MB)\n",
            "Collecting nvidia-cusolver-cu12==11.4.5.107 (from torch>=1.6.0->trankit)\n",
            "  Using cached nvidia_cusolver_cu12-11.4.5.107-py3-none-manylinux1_x86_64.whl (124.2 MB)\n",
            "Collecting nvidia-cusparse-cu12==12.1.0.106 (from torch>=1.6.0->trankit)\n",
            "  Using cached nvidia_cusparse_cu12-12.1.0.106-py3-none-manylinux1_x86_64.whl (196.0 MB)\n",
            "Collecting nvidia-nccl-cu12==2.19.3 (from torch>=1.6.0->trankit)\n",
            "  Using cached nvidia_nccl_cu12-2.19.3-py3-none-manylinux1_x86_64.whl (166.0 MB)\n",
            "Collecting nvidia-nvtx-cu12==12.1.105 (from torch>=1.6.0->trankit)\n",
            "  Using cached nvidia_nvtx_cu12-12.1.105-py3-none-manylinux1_x86_64.whl (99 kB)\n",
            "Requirement already satisfied: triton==2.2.0 in /usr/local/lib/python3.10/dist-packages (from torch>=1.6.0->trankit) (2.2.0)\n",
            "Collecting nvidia-nvjitlink-cu12 (from nvidia-cusolver-cu12==11.4.5.107->torch>=1.6.0->trankit)\n",
            "  Using cached nvidia_nvjitlink_cu12-12.4.127-py3-none-manylinux2014_x86_64.whl (21.1 MB)\n",
            "Requirement already satisfied: charset-normalizer<4,>=2 in /usr/local/lib/python3.10/dist-packages (from requests->trankit) (3.3.2)\n",
            "Requirement already satisfied: idna<4,>=2.5 in /usr/local/lib/python3.10/dist-packages (from requests->trankit) (3.6)\n",
            "Requirement already satisfied: urllib3<3,>=1.21.1 in /usr/local/lib/python3.10/dist-packages (from requests->trankit) (2.0.7)\n",
            "Requirement already satisfied: certifi>=2017.4.17 in /usr/local/lib/python3.10/dist-packages (from requests->trankit) (2024.2.2)\n",
            "Requirement already satisfied: click in /usr/local/lib/python3.10/dist-packages (from sacremoses->trankit) (8.1.7)\n",
            "Requirement already satisfied: joblib in /usr/local/lib/python3.10/dist-packages (from sacremoses->trankit) (1.4.0)\n",
            "Requirement already satisfied: MarkupSafe>=2.0 in /usr/local/lib/python3.10/dist-packages (from jinja2->torch>=1.6.0->trankit) (2.1.5)\n",
            "Requirement already satisfied: mpmath>=0.19 in /usr/local/lib/python3.10/dist-packages (from sympy->torch>=1.6.0->trankit) (1.3.0)\n",
            "Building wheels for collected packages: langid\n",
            "  Building wheel for langid (setup.py) ... \u001b[?25l\u001b[?25hdone\n",
            "  Created wheel for langid: filename=langid-1.1.6-py3-none-any.whl size=1941172 sha256=7dee9a5b09ba1b2c1bd16ed2c2368edffb4832ead4e50a71f30caf8755afb49b\n",
            "  Stored in directory: /root/.cache/pip/wheels/23/c8/c6/eed80894918490a175677414d40bd7c851413bbe03d4856c3c\n",
            "Successfully built langid\n",
            "Installing collected packages: sacremoses, nvidia-nvtx-cu12, nvidia-nvjitlink-cu12, nvidia-nccl-cu12, nvidia-curand-cu12, nvidia-cufft-cu12, nvidia-cuda-runtime-cu12, nvidia-cuda-nvrtc-cu12, nvidia-cuda-cupti-cu12, nvidia-cublas-cu12, langid, nvidia-cusparse-cu12, nvidia-cudnn-cu12, nvidia-cusolver-cu12, trankit\n",
            "Successfully installed langid-1.1.6 nvidia-cublas-cu12-12.1.3.1 nvidia-cuda-cupti-cu12-12.1.105 nvidia-cuda-nvrtc-cu12-12.1.105 nvidia-cuda-runtime-cu12-12.1.105 nvidia-cudnn-cu12-8.9.2.26 nvidia-cufft-cu12-11.0.2.54 nvidia-curand-cu12-10.3.2.106 nvidia-cusolver-cu12-11.4.5.107 nvidia-cusparse-cu12-12.1.0.106 nvidia-nccl-cu12-2.19.3 nvidia-nvjitlink-cu12-12.4.127 nvidia-nvtx-cu12-12.1.105 sacremoses-0.1.1 trankit-1.1.1\n"
          ]
        }
      ]
    },
    {
      "cell_type": "code",
      "source": [
        "import trankit\n",
        "p = trankit.Pipeline('english', gpu=False)"
      ],
      "metadata": {
        "id": "VhmIpLVp_y2X",
        "outputId": "d99440c8-b23a-4f61-9c53-f84628153593",
        "colab": {
          "base_uri": "https://localhost:8080/",
          "height": 287,
          "referenced_widgets": [
            "949bfe3409374d37b93a211244434455",
            "31e3b3ce310d43d789ab6d021ea0f8de",
            "bdbbd9104b4c40f7811e0ff2bae5e768",
            "c1b440e7344f4d29b68a3a246c81edfc",
            "bba7bdc6cb44448fa617890e21ad1ce1",
            "dc8ba1c091d94da7bde62431bd8c4d3d",
            "01ed4316aba34d3c9e47a546f4aca960",
            "c66a364d423c4e2c9d63210b24cc4467",
            "8a89cb87661842f58830933456002255",
            "8463f057cf164c419b561c401159c767",
            "387136ce75e64dc1b317bbb6b8a617a7",
            "69476007b8b642f0bab20b898e0be278",
            "9735b6efb84141a8ad4f656c4ad39ba1",
            "d05b9c1800ce4eae81e2f815de4c4e84",
            "589c243439bd4dd29cd0de87e935fe36",
            "49783975cb7a4c809b287d62d50807ec",
            "1263b2b817e34324bb61d2990d324120",
            "7f2edd0b61d1403cbe5b2af47c6d6fe5",
            "e7944f21a8a345ad9f59993c10fac22e",
            "7e04082d68804adb9212b510e69e805b",
            "eaa833bd3a2c444898c7d01b3c490de9",
            "8c46253c00974afe91989462fbb183de",
            "66b6a00db5294c94b9650da7f7438583",
            "cfdd25a1cee148918d6ea3cbf4ee9079",
            "13337ccb025e4420aff0de32cf1c810d",
            "cfab4a82e1a94b98b10576e78ba12890",
            "70c8398bc4d14f2f9481e16cc9b622ac",
            "0c261ff927e940bf9651ebab141418ff",
            "be3d2e57b9f14508ab93a593377f2423",
            "69f8fd6bb7ee445e82ed57d28c98a513",
            "11fe90275bc44b418e2bc6aed6982ba9",
            "d08252d190b34ac7ac5cf9be2f01345e",
            "d6a2d9ca88a94b08bcdaaff007598eef"
          ]
        }
      },
      "execution_count": 10,
      "outputs": [
        {
          "output_type": "display_data",
          "data": {
            "text/plain": [
              "Downloading:   0%|          | 0.00/5.07M [00:00<?, ?B/s]"
            ],
            "application/vnd.jupyter.widget-view+json": {
              "version_major": 2,
              "version_minor": 0,
              "model_id": "949bfe3409374d37b93a211244434455"
            }
          },
          "metadata": {}
        },
        {
          "output_type": "stream",
          "name": "stdout",
          "text": [
            "http://nlp.uoregon.edu/download/trankit/v1.0.0/xlm-roberta-base/english.zip\n"
          ]
        },
        {
          "output_type": "stream",
          "name": "stderr",
          "text": [
            "Downloading: 100%|██████████| 47.9M/47.9M [00:01<00:00, 36.6MiB/s]\n"
          ]
        },
        {
          "output_type": "stream",
          "name": "stdout",
          "text": [
            "Loading pretrained XLM-Roberta, this may take a while...\n"
          ]
        },
        {
          "output_type": "display_data",
          "data": {
            "text/plain": [
              "Downloading:   0%|          | 0.00/512 [00:00<?, ?B/s]"
            ],
            "application/vnd.jupyter.widget-view+json": {
              "version_major": 2,
              "version_minor": 0,
              "model_id": "69476007b8b642f0bab20b898e0be278"
            }
          },
          "metadata": {}
        },
        {
          "output_type": "display_data",
          "data": {
            "text/plain": [
              "Downloading:   0%|          | 0.00/1.12G [00:00<?, ?B/s]"
            ],
            "application/vnd.jupyter.widget-view+json": {
              "version_major": 2,
              "version_minor": 0,
              "model_id": "66b6a00db5294c94b9650da7f7438583"
            }
          },
          "metadata": {}
        },
        {
          "output_type": "stream",
          "name": "stdout",
          "text": [
            "Loading tokenizer for english\n",
            "Loading tagger for english\n",
            "Loading lemmatizer for english\n",
            "Loading NER tagger for english\n",
            "==================================================\n",
            "Active language: english\n",
            "==================================================\n"
          ]
        }
      ]
    },
    {
      "cell_type": "code",
      "source": [
        "p(\"The children ate the cakes with spoons.\")"
      ],
      "metadata": {
        "id": "YG89BMqX_5mT",
        "outputId": "82d69437-693b-4c7d-be7f-fa97c3598ca4",
        "colab": {
          "base_uri": "https://localhost:8080/"
        }
      },
      "execution_count": 11,
      "outputs": [
        {
          "output_type": "execute_result",
          "data": {
            "text/plain": [
              "{'text': 'The children ate the cakes with spoons.',\n",
              " 'sentences': [{'id': 1,\n",
              "   'text': 'The children ate the cakes with spoons.',\n",
              "   'tokens': [{'id': 1,\n",
              "     'text': 'The',\n",
              "     'upos': 'DET',\n",
              "     'xpos': 'DT',\n",
              "     'feats': 'Definite=Def|PronType=Art',\n",
              "     'head': 2,\n",
              "     'deprel': 'det',\n",
              "     'dspan': (0, 3),\n",
              "     'span': (0, 3),\n",
              "     'lemma': 'the',\n",
              "     'ner': 'O'},\n",
              "    {'id': 2,\n",
              "     'text': 'children',\n",
              "     'upos': 'NOUN',\n",
              "     'xpos': 'NNS',\n",
              "     'feats': 'Number=Plur',\n",
              "     'head': 3,\n",
              "     'deprel': 'nsubj',\n",
              "     'dspan': (4, 12),\n",
              "     'span': (4, 12),\n",
              "     'lemma': 'child',\n",
              "     'ner': 'O'},\n",
              "    {'id': 3,\n",
              "     'text': 'ate',\n",
              "     'upos': 'VERB',\n",
              "     'xpos': 'VBD',\n",
              "     'feats': 'Mood=Ind|Tense=Past|VerbForm=Fin',\n",
              "     'head': 0,\n",
              "     'deprel': 'root',\n",
              "     'dspan': (13, 16),\n",
              "     'span': (13, 16),\n",
              "     'lemma': 'eat',\n",
              "     'ner': 'O'},\n",
              "    {'id': 4,\n",
              "     'text': 'the',\n",
              "     'upos': 'DET',\n",
              "     'xpos': 'DT',\n",
              "     'feats': 'Definite=Def|PronType=Art',\n",
              "     'head': 5,\n",
              "     'deprel': 'det',\n",
              "     'dspan': (17, 20),\n",
              "     'span': (17, 20),\n",
              "     'lemma': 'the',\n",
              "     'ner': 'O'},\n",
              "    {'id': 5,\n",
              "     'text': 'cakes',\n",
              "     'upos': 'NOUN',\n",
              "     'xpos': 'NNS',\n",
              "     'feats': 'Number=Plur',\n",
              "     'head': 3,\n",
              "     'deprel': 'obj',\n",
              "     'dspan': (21, 26),\n",
              "     'span': (21, 26),\n",
              "     'lemma': 'cake',\n",
              "     'ner': 'O'},\n",
              "    {'id': 6,\n",
              "     'text': 'with',\n",
              "     'upos': 'ADP',\n",
              "     'xpos': 'IN',\n",
              "     'head': 7,\n",
              "     'deprel': 'case',\n",
              "     'dspan': (27, 31),\n",
              "     'span': (27, 31),\n",
              "     'lemma': 'with',\n",
              "     'ner': 'O'},\n",
              "    {'id': 7,\n",
              "     'text': 'spoons',\n",
              "     'upos': 'NOUN',\n",
              "     'xpos': 'NNS',\n",
              "     'feats': 'Number=Plur',\n",
              "     'head': 3,\n",
              "     'deprel': 'obl',\n",
              "     'dspan': (32, 38),\n",
              "     'span': (32, 38),\n",
              "     'lemma': 'spoon',\n",
              "     'ner': 'O'},\n",
              "    {'id': 8,\n",
              "     'text': '.',\n",
              "     'upos': 'PUNCT',\n",
              "     'xpos': '.',\n",
              "     'head': 3,\n",
              "     'deprel': 'punct',\n",
              "     'dspan': (38, 39),\n",
              "     'span': (38, 39),\n",
              "     'lemma': '.',\n",
              "     'ner': 'O'}],\n",
              "   'dspan': (0, 39)}],\n",
              " 'lang': 'english'}"
            ]
          },
          "metadata": {},
          "execution_count": 11
        }
      ]
    },
    {
      "cell_type": "code",
      "source": [
        "p = trankit.Pipeline('finnish', gpu=False)\n"
      ],
      "metadata": {
        "colab": {
          "base_uri": "https://localhost:8080/"
        },
        "id": "cSGBStMPkxkI",
        "outputId": "e93b7c23-0721-4aa1-8a37-f3a37d2b5482"
      },
      "execution_count": 12,
      "outputs": [
        {
          "output_type": "stream",
          "name": "stdout",
          "text": [
            "http://nlp.uoregon.edu/download/trankit/v1.0.0/xlm-roberta-base/finnish.zip\n"
          ]
        },
        {
          "output_type": "stream",
          "name": "stderr",
          "text": [
            "Downloading: 100%|██████████| 33.9M/33.9M [00:01<00:00, 22.1MiB/s]\n"
          ]
        },
        {
          "output_type": "stream",
          "name": "stdout",
          "text": [
            "Loading pretrained XLM-Roberta, this may take a while...\n",
            "Loading tokenizer for finnish\n",
            "Loading tagger for finnish\n",
            "Loading multi-word expander for finnish\n",
            "Loading lemmatizer for finnish\n",
            "==================================================\n",
            "Active language: finnish\n",
            "==================================================\n"
          ]
        }
      ]
    },
    {
      "cell_type": "code",
      "source": [
        "p(\"Puhu retkesta pappisi kanssa.\")"
      ],
      "metadata": {
        "colab": {
          "base_uri": "https://localhost:8080/"
        },
        "id": "JIUt8bUblvNm",
        "outputId": "c09b881c-e323-488a-e16f-970c290165ed"
      },
      "execution_count": 13,
      "outputs": [
        {
          "output_type": "execute_result",
          "data": {
            "text/plain": [
              "{'text': 'Puhu retkesta pappisi kanssa.',\n",
              " 'sentences': [{'id': 1,\n",
              "   'text': 'Puhu retkesta pappisi kanssa.',\n",
              "   'dspan': (0, 29),\n",
              "   'tokens': [{'id': 1,\n",
              "     'text': 'Puhu',\n",
              "     'upos': 'VERB',\n",
              "     'xpos': 'V',\n",
              "     'feats': 'Mood=Imp|Number=Sing|Person=2|VerbForm=Fin|Voice=Act',\n",
              "     'head': 0,\n",
              "     'deprel': 'root',\n",
              "     'dspan': (0, 4),\n",
              "     'span': (0, 4),\n",
              "     'lemma': 'puhua'},\n",
              "    {'id': 2,\n",
              "     'text': 'retkesta',\n",
              "     'upos': 'NOUN',\n",
              "     'xpos': 'N',\n",
              "     'feats': 'Case=Ela|Number=Sing',\n",
              "     'head': 1,\n",
              "     'deprel': 'obl',\n",
              "     'dspan': (5, 13),\n",
              "     'span': (5, 13),\n",
              "     'lemma': 'retki'},\n",
              "    {'id': 3,\n",
              "     'text': 'pappisi',\n",
              "     'upos': 'NOUN',\n",
              "     'xpos': 'N',\n",
              "     'feats': 'Case=Gen|Number=Sing|Number[psor]=Sing|Person[psor]=2',\n",
              "     'head': 1,\n",
              "     'deprel': 'obl',\n",
              "     'dspan': (14, 21),\n",
              "     'span': (14, 21),\n",
              "     'lemma': 'pappi'},\n",
              "    {'id': 4,\n",
              "     'text': 'kanssa',\n",
              "     'upos': 'ADP',\n",
              "     'xpos': 'Adp',\n",
              "     'feats': 'AdpType=Post',\n",
              "     'head': 3,\n",
              "     'deprel': 'case',\n",
              "     'dspan': (22, 28),\n",
              "     'span': (22, 28),\n",
              "     'lemma': 'kanssa'},\n",
              "    {'id': 5,\n",
              "     'text': '.',\n",
              "     'upos': 'PUNCT',\n",
              "     'xpos': 'Punct',\n",
              "     'head': 1,\n",
              "     'deprel': 'punct',\n",
              "     'dspan': (28, 29),\n",
              "     'span': (28, 29),\n",
              "     'lemma': '.'}]}],\n",
              " 'lang': 'finnish'}"
            ]
          },
          "metadata": {},
          "execution_count": 13
        }
      ]
    }
  ],
  "metadata": {
    "colab": {
      "name": "basic_nlp.ipynb",
      "provenance": [],
      "include_colab_link": true
    },
    "kernelspec": {
      "display_name": "Python 3",
      "name": "python3"
    },
    "language_info": {
      "codemirror_mode": {
        "name": "ipython",
        "version": 3
      },
      "file_extension": ".py",
      "mimetype": "text/x-python",
      "name": "python",
      "nbconvert_exporter": "python",
      "pygments_lexer": "ipython3",
      "version": "3.8.5"
    },
    "widgets": {
      "application/vnd.jupyter.widget-state+json": {
        "949bfe3409374d37b93a211244434455": {
          "model_module": "@jupyter-widgets/controls",
          "model_name": "HBoxModel",
          "model_module_version": "1.5.0",
          "state": {
            "_dom_classes": [],
            "_model_module": "@jupyter-widgets/controls",
            "_model_module_version": "1.5.0",
            "_model_name": "HBoxModel",
            "_view_count": null,
            "_view_module": "@jupyter-widgets/controls",
            "_view_module_version": "1.5.0",
            "_view_name": "HBoxView",
            "box_style": "",
            "children": [
              "IPY_MODEL_31e3b3ce310d43d789ab6d021ea0f8de",
              "IPY_MODEL_bdbbd9104b4c40f7811e0ff2bae5e768",
              "IPY_MODEL_c1b440e7344f4d29b68a3a246c81edfc"
            ],
            "layout": "IPY_MODEL_bba7bdc6cb44448fa617890e21ad1ce1"
          }
        },
        "31e3b3ce310d43d789ab6d021ea0f8de": {
          "model_module": "@jupyter-widgets/controls",
          "model_name": "HTMLModel",
          "model_module_version": "1.5.0",
          "state": {
            "_dom_classes": [],
            "_model_module": "@jupyter-widgets/controls",
            "_model_module_version": "1.5.0",
            "_model_name": "HTMLModel",
            "_view_count": null,
            "_view_module": "@jupyter-widgets/controls",
            "_view_module_version": "1.5.0",
            "_view_name": "HTMLView",
            "description": "",
            "description_tooltip": null,
            "layout": "IPY_MODEL_dc8ba1c091d94da7bde62431bd8c4d3d",
            "placeholder": "​",
            "style": "IPY_MODEL_01ed4316aba34d3c9e47a546f4aca960",
            "value": "Downloading: 100%"
          }
        },
        "bdbbd9104b4c40f7811e0ff2bae5e768": {
          "model_module": "@jupyter-widgets/controls",
          "model_name": "FloatProgressModel",
          "model_module_version": "1.5.0",
          "state": {
            "_dom_classes": [],
            "_model_module": "@jupyter-widgets/controls",
            "_model_module_version": "1.5.0",
            "_model_name": "FloatProgressModel",
            "_view_count": null,
            "_view_module": "@jupyter-widgets/controls",
            "_view_module_version": "1.5.0",
            "_view_name": "ProgressView",
            "bar_style": "success",
            "description": "",
            "description_tooltip": null,
            "layout": "IPY_MODEL_c66a364d423c4e2c9d63210b24cc4467",
            "max": 5069051,
            "min": 0,
            "orientation": "horizontal",
            "style": "IPY_MODEL_8a89cb87661842f58830933456002255",
            "value": 5069051
          }
        },
        "c1b440e7344f4d29b68a3a246c81edfc": {
          "model_module": "@jupyter-widgets/controls",
          "model_name": "HTMLModel",
          "model_module_version": "1.5.0",
          "state": {
            "_dom_classes": [],
            "_model_module": "@jupyter-widgets/controls",
            "_model_module_version": "1.5.0",
            "_model_name": "HTMLModel",
            "_view_count": null,
            "_view_module": "@jupyter-widgets/controls",
            "_view_module_version": "1.5.0",
            "_view_name": "HTMLView",
            "description": "",
            "description_tooltip": null,
            "layout": "IPY_MODEL_8463f057cf164c419b561c401159c767",
            "placeholder": "​",
            "style": "IPY_MODEL_387136ce75e64dc1b317bbb6b8a617a7",
            "value": " 5.07M/5.07M [00:00&lt;00:00, 18.1MB/s]"
          }
        },
        "bba7bdc6cb44448fa617890e21ad1ce1": {
          "model_module": "@jupyter-widgets/base",
          "model_name": "LayoutModel",
          "model_module_version": "1.2.0",
          "state": {
            "_model_module": "@jupyter-widgets/base",
            "_model_module_version": "1.2.0",
            "_model_name": "LayoutModel",
            "_view_count": null,
            "_view_module": "@jupyter-widgets/base",
            "_view_module_version": "1.2.0",
            "_view_name": "LayoutView",
            "align_content": null,
            "align_items": null,
            "align_self": null,
            "border": null,
            "bottom": null,
            "display": null,
            "flex": null,
            "flex_flow": null,
            "grid_area": null,
            "grid_auto_columns": null,
            "grid_auto_flow": null,
            "grid_auto_rows": null,
            "grid_column": null,
            "grid_gap": null,
            "grid_row": null,
            "grid_template_areas": null,
            "grid_template_columns": null,
            "grid_template_rows": null,
            "height": null,
            "justify_content": null,
            "justify_items": null,
            "left": null,
            "margin": null,
            "max_height": null,
            "max_width": null,
            "min_height": null,
            "min_width": null,
            "object_fit": null,
            "object_position": null,
            "order": null,
            "overflow": null,
            "overflow_x": null,
            "overflow_y": null,
            "padding": null,
            "right": null,
            "top": null,
            "visibility": null,
            "width": null
          }
        },
        "dc8ba1c091d94da7bde62431bd8c4d3d": {
          "model_module": "@jupyter-widgets/base",
          "model_name": "LayoutModel",
          "model_module_version": "1.2.0",
          "state": {
            "_model_module": "@jupyter-widgets/base",
            "_model_module_version": "1.2.0",
            "_model_name": "LayoutModel",
            "_view_count": null,
            "_view_module": "@jupyter-widgets/base",
            "_view_module_version": "1.2.0",
            "_view_name": "LayoutView",
            "align_content": null,
            "align_items": null,
            "align_self": null,
            "border": null,
            "bottom": null,
            "display": null,
            "flex": null,
            "flex_flow": null,
            "grid_area": null,
            "grid_auto_columns": null,
            "grid_auto_flow": null,
            "grid_auto_rows": null,
            "grid_column": null,
            "grid_gap": null,
            "grid_row": null,
            "grid_template_areas": null,
            "grid_template_columns": null,
            "grid_template_rows": null,
            "height": null,
            "justify_content": null,
            "justify_items": null,
            "left": null,
            "margin": null,
            "max_height": null,
            "max_width": null,
            "min_height": null,
            "min_width": null,
            "object_fit": null,
            "object_position": null,
            "order": null,
            "overflow": null,
            "overflow_x": null,
            "overflow_y": null,
            "padding": null,
            "right": null,
            "top": null,
            "visibility": null,
            "width": null
          }
        },
        "01ed4316aba34d3c9e47a546f4aca960": {
          "model_module": "@jupyter-widgets/controls",
          "model_name": "DescriptionStyleModel",
          "model_module_version": "1.5.0",
          "state": {
            "_model_module": "@jupyter-widgets/controls",
            "_model_module_version": "1.5.0",
            "_model_name": "DescriptionStyleModel",
            "_view_count": null,
            "_view_module": "@jupyter-widgets/base",
            "_view_module_version": "1.2.0",
            "_view_name": "StyleView",
            "description_width": ""
          }
        },
        "c66a364d423c4e2c9d63210b24cc4467": {
          "model_module": "@jupyter-widgets/base",
          "model_name": "LayoutModel",
          "model_module_version": "1.2.0",
          "state": {
            "_model_module": "@jupyter-widgets/base",
            "_model_module_version": "1.2.0",
            "_model_name": "LayoutModel",
            "_view_count": null,
            "_view_module": "@jupyter-widgets/base",
            "_view_module_version": "1.2.0",
            "_view_name": "LayoutView",
            "align_content": null,
            "align_items": null,
            "align_self": null,
            "border": null,
            "bottom": null,
            "display": null,
            "flex": null,
            "flex_flow": null,
            "grid_area": null,
            "grid_auto_columns": null,
            "grid_auto_flow": null,
            "grid_auto_rows": null,
            "grid_column": null,
            "grid_gap": null,
            "grid_row": null,
            "grid_template_areas": null,
            "grid_template_columns": null,
            "grid_template_rows": null,
            "height": null,
            "justify_content": null,
            "justify_items": null,
            "left": null,
            "margin": null,
            "max_height": null,
            "max_width": null,
            "min_height": null,
            "min_width": null,
            "object_fit": null,
            "object_position": null,
            "order": null,
            "overflow": null,
            "overflow_x": null,
            "overflow_y": null,
            "padding": null,
            "right": null,
            "top": null,
            "visibility": null,
            "width": null
          }
        },
        "8a89cb87661842f58830933456002255": {
          "model_module": "@jupyter-widgets/controls",
          "model_name": "ProgressStyleModel",
          "model_module_version": "1.5.0",
          "state": {
            "_model_module": "@jupyter-widgets/controls",
            "_model_module_version": "1.5.0",
            "_model_name": "ProgressStyleModel",
            "_view_count": null,
            "_view_module": "@jupyter-widgets/base",
            "_view_module_version": "1.2.0",
            "_view_name": "StyleView",
            "bar_color": null,
            "description_width": ""
          }
        },
        "8463f057cf164c419b561c401159c767": {
          "model_module": "@jupyter-widgets/base",
          "model_name": "LayoutModel",
          "model_module_version": "1.2.0",
          "state": {
            "_model_module": "@jupyter-widgets/base",
            "_model_module_version": "1.2.0",
            "_model_name": "LayoutModel",
            "_view_count": null,
            "_view_module": "@jupyter-widgets/base",
            "_view_module_version": "1.2.0",
            "_view_name": "LayoutView",
            "align_content": null,
            "align_items": null,
            "align_self": null,
            "border": null,
            "bottom": null,
            "display": null,
            "flex": null,
            "flex_flow": null,
            "grid_area": null,
            "grid_auto_columns": null,
            "grid_auto_flow": null,
            "grid_auto_rows": null,
            "grid_column": null,
            "grid_gap": null,
            "grid_row": null,
            "grid_template_areas": null,
            "grid_template_columns": null,
            "grid_template_rows": null,
            "height": null,
            "justify_content": null,
            "justify_items": null,
            "left": null,
            "margin": null,
            "max_height": null,
            "max_width": null,
            "min_height": null,
            "min_width": null,
            "object_fit": null,
            "object_position": null,
            "order": null,
            "overflow": null,
            "overflow_x": null,
            "overflow_y": null,
            "padding": null,
            "right": null,
            "top": null,
            "visibility": null,
            "width": null
          }
        },
        "387136ce75e64dc1b317bbb6b8a617a7": {
          "model_module": "@jupyter-widgets/controls",
          "model_name": "DescriptionStyleModel",
          "model_module_version": "1.5.0",
          "state": {
            "_model_module": "@jupyter-widgets/controls",
            "_model_module_version": "1.5.0",
            "_model_name": "DescriptionStyleModel",
            "_view_count": null,
            "_view_module": "@jupyter-widgets/base",
            "_view_module_version": "1.2.0",
            "_view_name": "StyleView",
            "description_width": ""
          }
        },
        "69476007b8b642f0bab20b898e0be278": {
          "model_module": "@jupyter-widgets/controls",
          "model_name": "HBoxModel",
          "model_module_version": "1.5.0",
          "state": {
            "_dom_classes": [],
            "_model_module": "@jupyter-widgets/controls",
            "_model_module_version": "1.5.0",
            "_model_name": "HBoxModel",
            "_view_count": null,
            "_view_module": "@jupyter-widgets/controls",
            "_view_module_version": "1.5.0",
            "_view_name": "HBoxView",
            "box_style": "",
            "children": [
              "IPY_MODEL_9735b6efb84141a8ad4f656c4ad39ba1",
              "IPY_MODEL_d05b9c1800ce4eae81e2f815de4c4e84",
              "IPY_MODEL_589c243439bd4dd29cd0de87e935fe36"
            ],
            "layout": "IPY_MODEL_49783975cb7a4c809b287d62d50807ec"
          }
        },
        "9735b6efb84141a8ad4f656c4ad39ba1": {
          "model_module": "@jupyter-widgets/controls",
          "model_name": "HTMLModel",
          "model_module_version": "1.5.0",
          "state": {
            "_dom_classes": [],
            "_model_module": "@jupyter-widgets/controls",
            "_model_module_version": "1.5.0",
            "_model_name": "HTMLModel",
            "_view_count": null,
            "_view_module": "@jupyter-widgets/controls",
            "_view_module_version": "1.5.0",
            "_view_name": "HTMLView",
            "description": "",
            "description_tooltip": null,
            "layout": "IPY_MODEL_1263b2b817e34324bb61d2990d324120",
            "placeholder": "​",
            "style": "IPY_MODEL_7f2edd0b61d1403cbe5b2af47c6d6fe5",
            "value": "Downloading: 100%"
          }
        },
        "d05b9c1800ce4eae81e2f815de4c4e84": {
          "model_module": "@jupyter-widgets/controls",
          "model_name": "FloatProgressModel",
          "model_module_version": "1.5.0",
          "state": {
            "_dom_classes": [],
            "_model_module": "@jupyter-widgets/controls",
            "_model_module_version": "1.5.0",
            "_model_name": "FloatProgressModel",
            "_view_count": null,
            "_view_module": "@jupyter-widgets/controls",
            "_view_module_version": "1.5.0",
            "_view_name": "ProgressView",
            "bar_style": "success",
            "description": "",
            "description_tooltip": null,
            "layout": "IPY_MODEL_e7944f21a8a345ad9f59993c10fac22e",
            "max": 512,
            "min": 0,
            "orientation": "horizontal",
            "style": "IPY_MODEL_7e04082d68804adb9212b510e69e805b",
            "value": 512
          }
        },
        "589c243439bd4dd29cd0de87e935fe36": {
          "model_module": "@jupyter-widgets/controls",
          "model_name": "HTMLModel",
          "model_module_version": "1.5.0",
          "state": {
            "_dom_classes": [],
            "_model_module": "@jupyter-widgets/controls",
            "_model_module_version": "1.5.0",
            "_model_name": "HTMLModel",
            "_view_count": null,
            "_view_module": "@jupyter-widgets/controls",
            "_view_module_version": "1.5.0",
            "_view_name": "HTMLView",
            "description": "",
            "description_tooltip": null,
            "layout": "IPY_MODEL_eaa833bd3a2c444898c7d01b3c490de9",
            "placeholder": "​",
            "style": "IPY_MODEL_8c46253c00974afe91989462fbb183de",
            "value": " 512/512 [00:00&lt;00:00, 27.1kB/s]"
          }
        },
        "49783975cb7a4c809b287d62d50807ec": {
          "model_module": "@jupyter-widgets/base",
          "model_name": "LayoutModel",
          "model_module_version": "1.2.0",
          "state": {
            "_model_module": "@jupyter-widgets/base",
            "_model_module_version": "1.2.0",
            "_model_name": "LayoutModel",
            "_view_count": null,
            "_view_module": "@jupyter-widgets/base",
            "_view_module_version": "1.2.0",
            "_view_name": "LayoutView",
            "align_content": null,
            "align_items": null,
            "align_self": null,
            "border": null,
            "bottom": null,
            "display": null,
            "flex": null,
            "flex_flow": null,
            "grid_area": null,
            "grid_auto_columns": null,
            "grid_auto_flow": null,
            "grid_auto_rows": null,
            "grid_column": null,
            "grid_gap": null,
            "grid_row": null,
            "grid_template_areas": null,
            "grid_template_columns": null,
            "grid_template_rows": null,
            "height": null,
            "justify_content": null,
            "justify_items": null,
            "left": null,
            "margin": null,
            "max_height": null,
            "max_width": null,
            "min_height": null,
            "min_width": null,
            "object_fit": null,
            "object_position": null,
            "order": null,
            "overflow": null,
            "overflow_x": null,
            "overflow_y": null,
            "padding": null,
            "right": null,
            "top": null,
            "visibility": null,
            "width": null
          }
        },
        "1263b2b817e34324bb61d2990d324120": {
          "model_module": "@jupyter-widgets/base",
          "model_name": "LayoutModel",
          "model_module_version": "1.2.0",
          "state": {
            "_model_module": "@jupyter-widgets/base",
            "_model_module_version": "1.2.0",
            "_model_name": "LayoutModel",
            "_view_count": null,
            "_view_module": "@jupyter-widgets/base",
            "_view_module_version": "1.2.0",
            "_view_name": "LayoutView",
            "align_content": null,
            "align_items": null,
            "align_self": null,
            "border": null,
            "bottom": null,
            "display": null,
            "flex": null,
            "flex_flow": null,
            "grid_area": null,
            "grid_auto_columns": null,
            "grid_auto_flow": null,
            "grid_auto_rows": null,
            "grid_column": null,
            "grid_gap": null,
            "grid_row": null,
            "grid_template_areas": null,
            "grid_template_columns": null,
            "grid_template_rows": null,
            "height": null,
            "justify_content": null,
            "justify_items": null,
            "left": null,
            "margin": null,
            "max_height": null,
            "max_width": null,
            "min_height": null,
            "min_width": null,
            "object_fit": null,
            "object_position": null,
            "order": null,
            "overflow": null,
            "overflow_x": null,
            "overflow_y": null,
            "padding": null,
            "right": null,
            "top": null,
            "visibility": null,
            "width": null
          }
        },
        "7f2edd0b61d1403cbe5b2af47c6d6fe5": {
          "model_module": "@jupyter-widgets/controls",
          "model_name": "DescriptionStyleModel",
          "model_module_version": "1.5.0",
          "state": {
            "_model_module": "@jupyter-widgets/controls",
            "_model_module_version": "1.5.0",
            "_model_name": "DescriptionStyleModel",
            "_view_count": null,
            "_view_module": "@jupyter-widgets/base",
            "_view_module_version": "1.2.0",
            "_view_name": "StyleView",
            "description_width": ""
          }
        },
        "e7944f21a8a345ad9f59993c10fac22e": {
          "model_module": "@jupyter-widgets/base",
          "model_name": "LayoutModel",
          "model_module_version": "1.2.0",
          "state": {
            "_model_module": "@jupyter-widgets/base",
            "_model_module_version": "1.2.0",
            "_model_name": "LayoutModel",
            "_view_count": null,
            "_view_module": "@jupyter-widgets/base",
            "_view_module_version": "1.2.0",
            "_view_name": "LayoutView",
            "align_content": null,
            "align_items": null,
            "align_self": null,
            "border": null,
            "bottom": null,
            "display": null,
            "flex": null,
            "flex_flow": null,
            "grid_area": null,
            "grid_auto_columns": null,
            "grid_auto_flow": null,
            "grid_auto_rows": null,
            "grid_column": null,
            "grid_gap": null,
            "grid_row": null,
            "grid_template_areas": null,
            "grid_template_columns": null,
            "grid_template_rows": null,
            "height": null,
            "justify_content": null,
            "justify_items": null,
            "left": null,
            "margin": null,
            "max_height": null,
            "max_width": null,
            "min_height": null,
            "min_width": null,
            "object_fit": null,
            "object_position": null,
            "order": null,
            "overflow": null,
            "overflow_x": null,
            "overflow_y": null,
            "padding": null,
            "right": null,
            "top": null,
            "visibility": null,
            "width": null
          }
        },
        "7e04082d68804adb9212b510e69e805b": {
          "model_module": "@jupyter-widgets/controls",
          "model_name": "ProgressStyleModel",
          "model_module_version": "1.5.0",
          "state": {
            "_model_module": "@jupyter-widgets/controls",
            "_model_module_version": "1.5.0",
            "_model_name": "ProgressStyleModel",
            "_view_count": null,
            "_view_module": "@jupyter-widgets/base",
            "_view_module_version": "1.2.0",
            "_view_name": "StyleView",
            "bar_color": null,
            "description_width": ""
          }
        },
        "eaa833bd3a2c444898c7d01b3c490de9": {
          "model_module": "@jupyter-widgets/base",
          "model_name": "LayoutModel",
          "model_module_version": "1.2.0",
          "state": {
            "_model_module": "@jupyter-widgets/base",
            "_model_module_version": "1.2.0",
            "_model_name": "LayoutModel",
            "_view_count": null,
            "_view_module": "@jupyter-widgets/base",
            "_view_module_version": "1.2.0",
            "_view_name": "LayoutView",
            "align_content": null,
            "align_items": null,
            "align_self": null,
            "border": null,
            "bottom": null,
            "display": null,
            "flex": null,
            "flex_flow": null,
            "grid_area": null,
            "grid_auto_columns": null,
            "grid_auto_flow": null,
            "grid_auto_rows": null,
            "grid_column": null,
            "grid_gap": null,
            "grid_row": null,
            "grid_template_areas": null,
            "grid_template_columns": null,
            "grid_template_rows": null,
            "height": null,
            "justify_content": null,
            "justify_items": null,
            "left": null,
            "margin": null,
            "max_height": null,
            "max_width": null,
            "min_height": null,
            "min_width": null,
            "object_fit": null,
            "object_position": null,
            "order": null,
            "overflow": null,
            "overflow_x": null,
            "overflow_y": null,
            "padding": null,
            "right": null,
            "top": null,
            "visibility": null,
            "width": null
          }
        },
        "8c46253c00974afe91989462fbb183de": {
          "model_module": "@jupyter-widgets/controls",
          "model_name": "DescriptionStyleModel",
          "model_module_version": "1.5.0",
          "state": {
            "_model_module": "@jupyter-widgets/controls",
            "_model_module_version": "1.5.0",
            "_model_name": "DescriptionStyleModel",
            "_view_count": null,
            "_view_module": "@jupyter-widgets/base",
            "_view_module_version": "1.2.0",
            "_view_name": "StyleView",
            "description_width": ""
          }
        },
        "66b6a00db5294c94b9650da7f7438583": {
          "model_module": "@jupyter-widgets/controls",
          "model_name": "HBoxModel",
          "model_module_version": "1.5.0",
          "state": {
            "_dom_classes": [],
            "_model_module": "@jupyter-widgets/controls",
            "_model_module_version": "1.5.0",
            "_model_name": "HBoxModel",
            "_view_count": null,
            "_view_module": "@jupyter-widgets/controls",
            "_view_module_version": "1.5.0",
            "_view_name": "HBoxView",
            "box_style": "",
            "children": [
              "IPY_MODEL_cfdd25a1cee148918d6ea3cbf4ee9079",
              "IPY_MODEL_13337ccb025e4420aff0de32cf1c810d",
              "IPY_MODEL_cfab4a82e1a94b98b10576e78ba12890"
            ],
            "layout": "IPY_MODEL_70c8398bc4d14f2f9481e16cc9b622ac"
          }
        },
        "cfdd25a1cee148918d6ea3cbf4ee9079": {
          "model_module": "@jupyter-widgets/controls",
          "model_name": "HTMLModel",
          "model_module_version": "1.5.0",
          "state": {
            "_dom_classes": [],
            "_model_module": "@jupyter-widgets/controls",
            "_model_module_version": "1.5.0",
            "_model_name": "HTMLModel",
            "_view_count": null,
            "_view_module": "@jupyter-widgets/controls",
            "_view_module_version": "1.5.0",
            "_view_name": "HTMLView",
            "description": "",
            "description_tooltip": null,
            "layout": "IPY_MODEL_0c261ff927e940bf9651ebab141418ff",
            "placeholder": "​",
            "style": "IPY_MODEL_be3d2e57b9f14508ab93a593377f2423",
            "value": "Downloading: 100%"
          }
        },
        "13337ccb025e4420aff0de32cf1c810d": {
          "model_module": "@jupyter-widgets/controls",
          "model_name": "FloatProgressModel",
          "model_module_version": "1.5.0",
          "state": {
            "_dom_classes": [],
            "_model_module": "@jupyter-widgets/controls",
            "_model_module_version": "1.5.0",
            "_model_name": "FloatProgressModel",
            "_view_count": null,
            "_view_module": "@jupyter-widgets/controls",
            "_view_module_version": "1.5.0",
            "_view_name": "ProgressView",
            "bar_style": "success",
            "description": "",
            "description_tooltip": null,
            "layout": "IPY_MODEL_69f8fd6bb7ee445e82ed57d28c98a513",
            "max": 1115590446,
            "min": 0,
            "orientation": "horizontal",
            "style": "IPY_MODEL_11fe90275bc44b418e2bc6aed6982ba9",
            "value": 1115590446
          }
        },
        "cfab4a82e1a94b98b10576e78ba12890": {
          "model_module": "@jupyter-widgets/controls",
          "model_name": "HTMLModel",
          "model_module_version": "1.5.0",
          "state": {
            "_dom_classes": [],
            "_model_module": "@jupyter-widgets/controls",
            "_model_module_version": "1.5.0",
            "_model_name": "HTMLModel",
            "_view_count": null,
            "_view_module": "@jupyter-widgets/controls",
            "_view_module_version": "1.5.0",
            "_view_name": "HTMLView",
            "description": "",
            "description_tooltip": null,
            "layout": "IPY_MODEL_d08252d190b34ac7ac5cf9be2f01345e",
            "placeholder": "​",
            "style": "IPY_MODEL_d6a2d9ca88a94b08bcdaaff007598eef",
            "value": " 1.12G/1.12G [00:20&lt;00:00, 60.4MB/s]"
          }
        },
        "70c8398bc4d14f2f9481e16cc9b622ac": {
          "model_module": "@jupyter-widgets/base",
          "model_name": "LayoutModel",
          "model_module_version": "1.2.0",
          "state": {
            "_model_module": "@jupyter-widgets/base",
            "_model_module_version": "1.2.0",
            "_model_name": "LayoutModel",
            "_view_count": null,
            "_view_module": "@jupyter-widgets/base",
            "_view_module_version": "1.2.0",
            "_view_name": "LayoutView",
            "align_content": null,
            "align_items": null,
            "align_self": null,
            "border": null,
            "bottom": null,
            "display": null,
            "flex": null,
            "flex_flow": null,
            "grid_area": null,
            "grid_auto_columns": null,
            "grid_auto_flow": null,
            "grid_auto_rows": null,
            "grid_column": null,
            "grid_gap": null,
            "grid_row": null,
            "grid_template_areas": null,
            "grid_template_columns": null,
            "grid_template_rows": null,
            "height": null,
            "justify_content": null,
            "justify_items": null,
            "left": null,
            "margin": null,
            "max_height": null,
            "max_width": null,
            "min_height": null,
            "min_width": null,
            "object_fit": null,
            "object_position": null,
            "order": null,
            "overflow": null,
            "overflow_x": null,
            "overflow_y": null,
            "padding": null,
            "right": null,
            "top": null,
            "visibility": null,
            "width": null
          }
        },
        "0c261ff927e940bf9651ebab141418ff": {
          "model_module": "@jupyter-widgets/base",
          "model_name": "LayoutModel",
          "model_module_version": "1.2.0",
          "state": {
            "_model_module": "@jupyter-widgets/base",
            "_model_module_version": "1.2.0",
            "_model_name": "LayoutModel",
            "_view_count": null,
            "_view_module": "@jupyter-widgets/base",
            "_view_module_version": "1.2.0",
            "_view_name": "LayoutView",
            "align_content": null,
            "align_items": null,
            "align_self": null,
            "border": null,
            "bottom": null,
            "display": null,
            "flex": null,
            "flex_flow": null,
            "grid_area": null,
            "grid_auto_columns": null,
            "grid_auto_flow": null,
            "grid_auto_rows": null,
            "grid_column": null,
            "grid_gap": null,
            "grid_row": null,
            "grid_template_areas": null,
            "grid_template_columns": null,
            "grid_template_rows": null,
            "height": null,
            "justify_content": null,
            "justify_items": null,
            "left": null,
            "margin": null,
            "max_height": null,
            "max_width": null,
            "min_height": null,
            "min_width": null,
            "object_fit": null,
            "object_position": null,
            "order": null,
            "overflow": null,
            "overflow_x": null,
            "overflow_y": null,
            "padding": null,
            "right": null,
            "top": null,
            "visibility": null,
            "width": null
          }
        },
        "be3d2e57b9f14508ab93a593377f2423": {
          "model_module": "@jupyter-widgets/controls",
          "model_name": "DescriptionStyleModel",
          "model_module_version": "1.5.0",
          "state": {
            "_model_module": "@jupyter-widgets/controls",
            "_model_module_version": "1.5.0",
            "_model_name": "DescriptionStyleModel",
            "_view_count": null,
            "_view_module": "@jupyter-widgets/base",
            "_view_module_version": "1.2.0",
            "_view_name": "StyleView",
            "description_width": ""
          }
        },
        "69f8fd6bb7ee445e82ed57d28c98a513": {
          "model_module": "@jupyter-widgets/base",
          "model_name": "LayoutModel",
          "model_module_version": "1.2.0",
          "state": {
            "_model_module": "@jupyter-widgets/base",
            "_model_module_version": "1.2.0",
            "_model_name": "LayoutModel",
            "_view_count": null,
            "_view_module": "@jupyter-widgets/base",
            "_view_module_version": "1.2.0",
            "_view_name": "LayoutView",
            "align_content": null,
            "align_items": null,
            "align_self": null,
            "border": null,
            "bottom": null,
            "display": null,
            "flex": null,
            "flex_flow": null,
            "grid_area": null,
            "grid_auto_columns": null,
            "grid_auto_flow": null,
            "grid_auto_rows": null,
            "grid_column": null,
            "grid_gap": null,
            "grid_row": null,
            "grid_template_areas": null,
            "grid_template_columns": null,
            "grid_template_rows": null,
            "height": null,
            "justify_content": null,
            "justify_items": null,
            "left": null,
            "margin": null,
            "max_height": null,
            "max_width": null,
            "min_height": null,
            "min_width": null,
            "object_fit": null,
            "object_position": null,
            "order": null,
            "overflow": null,
            "overflow_x": null,
            "overflow_y": null,
            "padding": null,
            "right": null,
            "top": null,
            "visibility": null,
            "width": null
          }
        },
        "11fe90275bc44b418e2bc6aed6982ba9": {
          "model_module": "@jupyter-widgets/controls",
          "model_name": "ProgressStyleModel",
          "model_module_version": "1.5.0",
          "state": {
            "_model_module": "@jupyter-widgets/controls",
            "_model_module_version": "1.5.0",
            "_model_name": "ProgressStyleModel",
            "_view_count": null,
            "_view_module": "@jupyter-widgets/base",
            "_view_module_version": "1.2.0",
            "_view_name": "StyleView",
            "bar_color": null,
            "description_width": ""
          }
        },
        "d08252d190b34ac7ac5cf9be2f01345e": {
          "model_module": "@jupyter-widgets/base",
          "model_name": "LayoutModel",
          "model_module_version": "1.2.0",
          "state": {
            "_model_module": "@jupyter-widgets/base",
            "_model_module_version": "1.2.0",
            "_model_name": "LayoutModel",
            "_view_count": null,
            "_view_module": "@jupyter-widgets/base",
            "_view_module_version": "1.2.0",
            "_view_name": "LayoutView",
            "align_content": null,
            "align_items": null,
            "align_self": null,
            "border": null,
            "bottom": null,
            "display": null,
            "flex": null,
            "flex_flow": null,
            "grid_area": null,
            "grid_auto_columns": null,
            "grid_auto_flow": null,
            "grid_auto_rows": null,
            "grid_column": null,
            "grid_gap": null,
            "grid_row": null,
            "grid_template_areas": null,
            "grid_template_columns": null,
            "grid_template_rows": null,
            "height": null,
            "justify_content": null,
            "justify_items": null,
            "left": null,
            "margin": null,
            "max_height": null,
            "max_width": null,
            "min_height": null,
            "min_width": null,
            "object_fit": null,
            "object_position": null,
            "order": null,
            "overflow": null,
            "overflow_x": null,
            "overflow_y": null,
            "padding": null,
            "right": null,
            "top": null,
            "visibility": null,
            "width": null
          }
        },
        "d6a2d9ca88a94b08bcdaaff007598eef": {
          "model_module": "@jupyter-widgets/controls",
          "model_name": "DescriptionStyleModel",
          "model_module_version": "1.5.0",
          "state": {
            "_model_module": "@jupyter-widgets/controls",
            "_model_module_version": "1.5.0",
            "_model_name": "DescriptionStyleModel",
            "_view_count": null,
            "_view_module": "@jupyter-widgets/base",
            "_view_module_version": "1.2.0",
            "_view_name": "StyleView",
            "description_width": ""
          }
        }
      }
    }
  },
  "nbformat": 4,
  "nbformat_minor": 0
}