{
  "nbformat": 4,
  "nbformat_minor": 0,
  "metadata": {
    "colab": {
      "provenance": [],
      "include_colab_link": true
    },
    "kernelspec": {
      "name": "python3",
      "display_name": "Python 3"
    },
    "language_info": {
      "name": "python"
    }
  },
  "cells": [
    {
      "cell_type": "markdown",
      "metadata": {
        "id": "view-in-github",
        "colab_type": "text"
      },
      "source": [
        "<a href=\"https://colab.research.google.com/github/simulate111/Introduction-to-Human-Language-Technology/blob/main/Exercise%20task%2014.ipynb\" target=\"_parent\"><img src=\"https://colab.research.google.com/assets/colab-badge.svg\" alt=\"Open In Colab\"/></a>"
      ]
    },
    {
      "cell_type": "markdown",
      "source": [
        "# Text generation example\n",
        "\n",
        "This is a brief example of how to run text generation with a causal language model and `pipeline`.\n",
        "\n",
        "Install [transformers](https://huggingface.co/docs/transformers/index) python package. This will be used to load the model and tokenizer and to run generation."
      ],
      "metadata": {
        "id": "tIQ1s96UCcJW"
      }
    },
    {
      "cell_type": "code",
      "source": [
        "!pip install --quiet transformers"
      ],
      "metadata": {
        "id": "4fUBJmXHCHw-"
      },
      "execution_count": 1,
      "outputs": []
    },
    {
      "cell_type": "markdown",
      "source": [
        "Import the `AutoTokenizer`, `AutoModelForCausalLM`, and `pipeline` classes. The first two support loading tokenizers and generative models from the [Hugging Face repository](https://huggingface.co/models), and the last wraps a tokenizer and a model for convenience."
      ],
      "metadata": {
        "id": "5ZRNZgRJCt6Q"
      }
    },
    {
      "cell_type": "code",
      "execution_count": 2,
      "metadata": {
        "id": "jwyK005xCFSF"
      },
      "outputs": [],
      "source": [
        "from transformers import AutoTokenizer, AutoModelForCausalLM, pipeline"
      ]
    },
    {
      "cell_type": "markdown",
      "source": [
        "Load a generative model and its tokenizer. You can substitute any other generative model name here (e.g. [other TurkuNLP GPT-3 models](https://huggingface.co/models?sort=downloads&search=turkunlp%2Fgpt3)), but note that Colab may have issues running larger models."
      ],
      "metadata": {
        "id": "6QJPDe3ZC_sL"
      }
    },
    {
      "cell_type": "code",
      "source": [
        "MODEL_NAME = 'TurkuNLP/gpt3-finnish-large'\n",
        "\n",
        "tokenizer = AutoTokenizer.from_pretrained(MODEL_NAME)\n",
        "model = AutoModelForCausalLM.from_pretrained(MODEL_NAME)"
      ],
      "metadata": {
        "id": "wqTxn_QaCNjZ",
        "colab": {
          "base_uri": "https://localhost:8080/"
        },
        "outputId": "e1a7cb36-8b40-439d-8e0f-43129225d364"
      },
      "execution_count": 3,
      "outputs": [
        {
          "output_type": "stream",
          "name": "stderr",
          "text": [
            "/usr/local/lib/python3.10/dist-packages/huggingface_hub/utils/_token.py:88: UserWarning: \n",
            "The secret `HF_TOKEN` does not exist in your Colab secrets.\n",
            "To authenticate with the Hugging Face Hub, create a token in your settings tab (https://huggingface.co/settings/tokens), set it as secret in your Google Colab and restart your session.\n",
            "You will be able to reuse this secret in all of your notebooks.\n",
            "Please note that authentication is recommended but still optional to access public models or datasets.\n",
            "  warnings.warn(\n"
          ]
        }
      ]
    },
    {
      "cell_type": "markdown",
      "source": [
        "Instantiate a text generation pipeline using the tokenizer and model."
      ],
      "metadata": {
        "id": "9ADWWb77e1sY"
      }
    },
    {
      "cell_type": "code",
      "source": [
        "pipe = pipeline(\n",
        "    'text-generation',\n",
        "    model=model,\n",
        "    tokenizer=tokenizer,\n",
        "    device=model.device\n",
        ")"
      ],
      "metadata": {
        "id": "0IIJzNrEe5qx"
      },
      "execution_count": 4,
      "outputs": []
    },
    {
      "cell_type": "markdown",
      "source": [
        "We can now call the pipeline with a text prompt; it will take care of tokenizing, encoding, generation, and decoding:"
      ],
      "metadata": {
        "id": "eAohNr1ciwaU"
      }
    },
    {
      "cell_type": "code",
      "source": [
        "output = pipe('Terve, miten menee?', max_new_tokens=25)\n",
        "\n",
        "print(output)"
      ],
      "metadata": {
        "colab": {
          "base_uri": "https://localhost:8080/"
        },
        "id": "jWcOJkiKi5vr",
        "outputId": "ad4f181e-6d05-4b71-e537-0a60a6c0e445"
      },
      "execution_count": 5,
      "outputs": [
        {
          "output_type": "stream",
          "name": "stdout",
          "text": [
            "[{'generated_text': 'Terve, miten menee?”\\n”Hyvin, kiitos.”\\n”Kiva kuulla.”\\n”Kuule, minulla on sinulle asiaa.”\\n'}]\n"
          ]
        }
      ]
    },
    {
      "cell_type": "markdown",
      "source": [
        "Just print the text"
      ],
      "metadata": {
        "id": "SNRMsxXOjSo0"
      }
    },
    {
      "cell_type": "code",
      "source": [
        "print(output[0]['generated_text'])"
      ],
      "metadata": {
        "colab": {
          "base_uri": "https://localhost:8080/"
        },
        "id": "9Op7MJ6XjahG",
        "outputId": "70630a33-12aa-4925-98d7-43eb60910d59"
      },
      "execution_count": 6,
      "outputs": [
        {
          "output_type": "stream",
          "name": "stdout",
          "text": [
            "Terve, miten menee?”\n",
            "”Hyvin, kiitos.”\n",
            "”Kiva kuulla.”\n",
            "”Kuule, minulla on sinulle asiaa.”\n",
            "\n"
          ]
        }
      ]
    },
    {
      "cell_type": "markdown",
      "source": [
        "We can also call the pipeline with any arguments that the model `generate` function supports. For details on text generation using `transformers`, see e.g. [this tutorial](https://huggingface.co/blog/how-to-generate).\n",
        "\n",
        "Example with sampling and a high `temperature` parameter to generate more chaotic output:"
      ],
      "metadata": {
        "id": "YROp3hyikXPO"
      }
    },
    {
      "cell_type": "code",
      "source": [
        "output = pipe(\n",
        "    'Terve, miten menee?',\n",
        "    do_sample=True,\n",
        "    temperature=10.0,\n",
        "    max_new_tokens=25\n",
        ")\n",
        "\n",
        "print(output[0]['generated_text'])"
      ],
      "metadata": {
        "colab": {
          "base_uri": "https://localhost:8080/"
        },
        "id": "22QjXE88jkim",
        "outputId": "3c01059c-1b05-46a9-c934-cdb50fe730f6"
      },
      "execution_count": 7,
      "outputs": [
        {
          "output_type": "stream",
          "name": "stdout",
          "text": [
            "Terve, miten menee? Entä mitäs jos nyt kerrankin puhumattomuuden kierre katkea ja menittäisiin reilusti yli?\n",
            "Meillä alkoi nyt uusi vuosi; tänään minä aloitin taas\n"
          ]
        }
      ]
    },
    {
      "cell_type": "markdown",
      "source": [
        "Text classification"
      ],
      "metadata": {
        "id": "mbansSe7W8O3"
      }
    },
    {
      "cell_type": "code",
      "source": [
        "classifier = pipeline(\"text-classification\", model=\"ivanlau/language-detection-fine-tuned-on-xlm-roberta-base\")"
      ],
      "metadata": {
        "id": "h0_ccNlbW-_N"
      },
      "execution_count": 8,
      "outputs": []
    },
    {
      "cell_type": "code",
      "source": [
        "texts = [\"This movie have just released.\",\n",
        "         \"Yesterday, I had the travel to other city.\",\n",
        "         \"Kuule, minulla on sinulle asiaa.\",\n",
        "         'Terve, miten menee?',\n",
        "         'Wie heiBen sie?']\n",
        "\n",
        "for text in texts:\n",
        "    result = classifier(text)\n",
        "    print(f\"Text: {text}\")\n",
        "    print(\"Label:\", result[0]['label'])"
      ],
      "metadata": {
        "id": "I8ldooNLYpGV",
        "outputId": "f3d36f28-f4e7-42c1-e3cf-3b2ca65b7816",
        "colab": {
          "base_uri": "https://localhost:8080/"
        }
      },
      "execution_count": 9,
      "outputs": [
        {
          "output_type": "stream",
          "name": "stdout",
          "text": [
            "Text: This movie have just released.\n",
            "Label: English\n",
            "Text: Yesterday, I had the travel to other city.\n",
            "Label: English\n",
            "Text: Kuule, minulla on sinulle asiaa.\n",
            "Label: Estonian\n",
            "Text: Terve, miten menee?\n",
            "Label: Estonian\n",
            "Text: Wie heiBen sie?\n",
            "Label: German\n"
          ]
        }
      ]
    },
    {
      "cell_type": "markdown",
      "source": [
        "Summarization"
      ],
      "metadata": {
        "id": "0Tkyka0Ib4qE"
      }
    },
    {
      "cell_type": "code",
      "source": [
        "summarizer = pipeline(\"summarization\", model=\"philschmid/bart-base-samsum\", max_length=50)"
      ],
      "metadata": {
        "id": "D17aXwmZa6bW"
      },
      "execution_count": 10,
      "outputs": []
    },
    {
      "cell_type": "code",
      "source": [
        "texts2 = ['A sleet-strewn Senate square is pretty quiet, when two American tourists arrive pushing a stroller. Soon a bus unloads a group of Japanese tourists at perhaps the most recognisable Finnish tourist spot. April is the most difficult month for tourism businesses in Finland, and in Helsinki the travel season is yet to start. Expectations, however, are not high this year. Visitor numbers have collapsed by about a fifth since 2019. Travellers from Russia and Asia are thin on the ground now. The number of visitors from Russia, China and Japan is down by more than a million from 2019.',\n",
        "          'GPS disruptions have prevented Finnair planes travelling from Helsinki to Tartu, Estonia, from landing for the past two nights. Instead of landing, the planes returned to Helsinki Airport. According to Finnair, landing at Tartu Airport requires the use of GPS signals. Finnair spokesperson Päivyt Tallqvist said that both flights departing around midnight on Thursday and Friday had to return to Helsinki Airport. GPS interference is a relatively common phenomenon, and it doesn\\'t usually warrant flights turning back, according to Tallqvist. Airports generally use multiple systems for approach and don\\'t necessarily rely on GPS signals.GPS disruptions have prevented Finnair planes travelling from Helsinki to Tartu, Estonia, from landing for the past two nights. Instead of landing, the planes returned to Helsinki Airport. According to Finnair, landing at Tartu Airport requires the use of GPS signals. Finnair spokesperson Päivyt Tallqvist said that both flights departing around midnight on Thursday and Friday had to return to Helsinki Airport. GPS interference is a relatively common phenomenon, and it doesn\\'t usually warrant flights turning back, according to Tallqvist. Airports generally use multiple systems for approach and don\\'t necessarily rely on GPS signals.',\n",
        "          'Police on Saturday said they had arrested Finns Party MP Timo Vornanen over a nightclub shooting incident that occurred in the early hours of Friday in central Helsinki. While the police did not name Vornanen in their statement, the details they provided align with the previously known details of the case. According to the police, the suspected shooting incident began around 4am on Friday at the Ihku nightclub in downtown Helsinki. Vornanen and another group of people got into an altercation which culminated in Vornanen, once outside the club, producing a small-caliber firearm and firing a shot into the ground.']\n",
        "\n",
        "for text2 in texts2:\n",
        "    result = summarizer(text2)\n",
        "    print(f\"\\n\\nText: {text2}\")\n",
        "    print(\"\\nSummary:\", result[0]['summary_text'])"
      ],
      "metadata": {
        "id": "03WSf_B3Y6aD",
        "outputId": "e98666ee-effb-400c-b83a-0616cfef4c84",
        "colab": {
          "base_uri": "https://localhost:8080/"
        }
      },
      "execution_count": 11,
      "outputs": [
        {
          "output_type": "stream",
          "name": "stdout",
          "text": [
            "\n",
            "\n",
            "Text: A sleet-strewn Senate square is pretty quiet, when two American tourists arrive pushing a stroller. Soon a bus unloads a group of Japanese tourists at perhaps the most recognisable Finnish tourist spot. April is the most difficult month for tourism businesses in Finland, and in Helsinki the travel season is yet to start. Expectations, however, are not high this year. Visitor numbers have collapsed by about a fifth since 2019. Travellers from Russia and Asia are thin on the ground now. The number of visitors from Russia, China and Japan is down by more than a million from 2019.\n",
            "\n",
            "Summary: A sleet-strewn Senate square is pretty quiet, when two American tourists arrive pushing a stroller. Soon a bus unloads a group of Japanese tourists at perhaps the most recognisable Finnish tourist spot. April is the most difficult\n",
            "\n",
            "\n",
            "Text: GPS disruptions have prevented Finnair planes travelling from Helsinki to Tartu, Estonia, from landing for the past two nights. Instead of landing, the planes returned to Helsinki Airport. According to Finnair, landing at Tartu Airport requires the use of GPS signals. Finnair spokesperson Päivyt Tallqvist said that both flights departing around midnight on Thursday and Friday had to return to Helsinki Airport. GPS interference is a relatively common phenomenon, and it doesn't usually warrant flights turning back, according to Tallqvist. Airports generally use multiple systems for approach and don't necessarily rely on GPS signals.GPS disruptions have prevented Finnair planes travelling from Helsinki to Tartu, Estonia, from landing for the past two nights. Instead of landing, the planes returned to Helsinki Airport. According to Finnair, landing at Tartu Airport requires the use of GPS signals. Finnair spokesperson Päivyt Tallqvist said that both flights departing around midnight on Thursday and Friday had to return to Helsinki Airport. GPS interference is a relatively common phenomenon, and it doesn't usually warrant flights turning back, according to Tallqvist. Airports generally use multiple systems for approach and don't necessarily rely on GPS signals.\n",
            "\n",
            "Summary: GPS disruptions have prevented Finnair planes travelling from Helsinki to Tartu, Estonia, from landing for the past two nights. Instead of landing, the planes returned to Helsinki Airport. According to Finnair, landing at Tartu Airport requires\n",
            "\n",
            "\n",
            "Text: Police on Saturday said they had arrested Finns Party MP Timo Vornanen over a nightclub shooting incident that occurred in the early hours of Friday in central Helsinki. While the police did not name Vornanen in their statement, the details they provided align with the previously known details of the case. According to the police, the suspected shooting incident began around 4am on Friday at the Ihku nightclub in downtown Helsinki. Vornanen and another group of people got into an altercation which culminated in Vornanen, once outside the club, producing a small-caliber firearm and firing a shot into the ground.\n",
            "\n",
            "Summary: Police arrested Finns Party MP Timo Vornanen over a nightclub shooting incident that occurred in the early hours of Friday in central Helsinki.\n"
          ]
        }
      ]
    }
  ]
}