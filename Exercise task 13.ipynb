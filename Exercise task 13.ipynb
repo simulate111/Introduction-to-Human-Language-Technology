{
  "nbformat": 4,
  "nbformat_minor": 0,
  "metadata": {
    "colab": {
      "provenance": [],
      "include_colab_link": true
    },
    "kernelspec": {
      "name": "python3",
      "display_name": "Python 3"
    },
    "language_info": {
      "name": "python"
    }
  },
  "cells": [
    {
      "cell_type": "markdown",
      "metadata": {
        "id": "view-in-github",
        "colab_type": "text"
      },
      "source": [
        "<a href=\"https://colab.research.google.com/github/simulate111/Introduction-to-Human-Language-Technology/blob/main/Exercise%20task%2013.ipynb\" target=\"_parent\"><img src=\"https://colab.research.google.com/assets/colab-badge.svg\" alt=\"Open In Colab\"/></a>"
      ]
    },
    {
      "cell_type": "markdown",
      "source": [
        "# Text generation example\n",
        "\n",
        "This is a brief example of how to run text generation with a causal language model and `pipeline`.\n",
        "\n",
        "Install [transformers](https://huggingface.co/docs/transformers/index) python package. This will be used to load the model and tokenizer and to run generation."
      ],
      "metadata": {
        "id": "tIQ1s96UCcJW"
      }
    },
    {
      "cell_type": "code",
      "source": [
        "!pip install --quiet transformers"
      ],
      "metadata": {
        "id": "4fUBJmXHCHw-"
      },
      "execution_count": 1,
      "outputs": []
    },
    {
      "cell_type": "markdown",
      "source": [
        "Import the `AutoTokenizer`, `AutoModelForCausalLM`, and `pipeline` classes. The first two support loading tokenizers and generative models from the [Hugging Face repository](https://huggingface.co/models), and the last wraps a tokenizer and a model for convenience."
      ],
      "metadata": {
        "id": "5ZRNZgRJCt6Q"
      }
    },
    {
      "cell_type": "code",
      "execution_count": 2,
      "metadata": {
        "id": "jwyK005xCFSF"
      },
      "outputs": [],
      "source": [
        "from transformers import AutoTokenizer, AutoModelForCausalLM, pipeline"
      ]
    },
    {
      "cell_type": "markdown",
      "source": [
        "Load a generative model and its tokenizer. You can substitute any other generative model name here (e.g. [other TurkuNLP GPT-3 models](https://huggingface.co/models?sort=downloads&search=turkunlp%2Fgpt3)), but note that Colab may have issues running larger models."
      ],
      "metadata": {
        "id": "6QJPDe3ZC_sL"
      }
    },
    {
      "cell_type": "code",
      "source": [
        "MODEL_NAME = 'gpt2-large'\n",
        "\n",
        "tokenizer = AutoTokenizer.from_pretrained(MODEL_NAME)\n",
        "model = AutoModelForCausalLM.from_pretrained(MODEL_NAME)"
      ],
      "metadata": {
        "id": "wqTxn_QaCNjZ",
        "outputId": "3c13665b-3564-43ff-da84-a3d2423d5a5e",
        "colab": {
          "base_uri": "https://localhost:8080/"
        }
      },
      "execution_count": 3,
      "outputs": [
        {
          "output_type": "stream",
          "name": "stderr",
          "text": [
            "/usr/local/lib/python3.10/dist-packages/huggingface_hub/utils/_token.py:88: UserWarning: \n",
            "The secret `HF_TOKEN` does not exist in your Colab secrets.\n",
            "To authenticate with the Hugging Face Hub, create a token in your settings tab (https://huggingface.co/settings/tokens), set it as secret in your Google Colab and restart your session.\n",
            "You will be able to reuse this secret in all of your notebooks.\n",
            "Please note that authentication is recommended but still optional to access public models or datasets.\n",
            "  warnings.warn(\n"
          ]
        }
      ]
    },
    {
      "cell_type": "markdown",
      "source": [
        "Instantiate a text generation pipeline using the tokenizer and model."
      ],
      "metadata": {
        "id": "9ADWWb77e1sY"
      }
    },
    {
      "cell_type": "code",
      "source": [
        "pipe = pipeline(\n",
        "    'text-generation',\n",
        "    model=model,\n",
        "    tokenizer=tokenizer,\n",
        "    device=model.device\n",
        ")"
      ],
      "metadata": {
        "id": "0IIJzNrEe5qx"
      },
      "execution_count": 4,
      "outputs": []
    },
    {
      "cell_type": "markdown",
      "source": [
        "We can now call the pipeline with a text prompt; it will take care of tokenizing, encoding, generation, and decoding:"
      ],
      "metadata": {
        "id": "eAohNr1ciwaU"
      }
    },
    {
      "cell_type": "code",
      "source": [
        "output = pipe('Terve, miten menee?', max_new_tokens=25)\n",
        "\n",
        "print(output)"
      ],
      "metadata": {
        "colab": {
          "base_uri": "https://localhost:8080/"
        },
        "id": "jWcOJkiKi5vr",
        "outputId": "568eaf96-88b9-41d2-ae7b-fc46ec3047db"
      },
      "execution_count": 5,
      "outputs": [
        {
          "output_type": "stream",
          "name": "stderr",
          "text": [
            "Setting `pad_token_id` to `eos_token_id`:50256 for open-end generation.\n"
          ]
        },
        {
          "output_type": "stream",
          "name": "stdout",
          "text": [
            "[{'generated_text': 'Terve, miten menee? Terve hat, hat man einen Fürsten gegeben können sie aufgebaut'}]\n"
          ]
        }
      ]
    },
    {
      "cell_type": "markdown",
      "source": [
        "Just print the text"
      ],
      "metadata": {
        "id": "SNRMsxXOjSo0"
      }
    },
    {
      "cell_type": "code",
      "source": [
        "print(output[0]['generated_text'])"
      ],
      "metadata": {
        "id": "9Op7MJ6XjahG",
        "outputId": "cd2749b9-7a33-4149-b083-4191443ef306",
        "colab": {
          "base_uri": "https://localhost:8080/"
        }
      },
      "execution_count": 6,
      "outputs": [
        {
          "output_type": "stream",
          "name": "stdout",
          "text": [
            "Terve, miten menee? Terve hat, hat man einen Fürsten gegeben können sie aufgebaut\n"
          ]
        }
      ]
    },
    {
      "cell_type": "markdown",
      "source": [
        "We can also call the pipeline with any arguments that the model `generate` function supports. For details on text generation using `transformers`, see e.g. [this tutorial](https://huggingface.co/blog/how-to-generate).\n",
        "\n",
        "Example with sampling and a high `temperature` parameter to generate more chaotic output:"
      ],
      "metadata": {
        "id": "YROp3hyikXPO"
      }
    },
    {
      "cell_type": "code",
      "source": [
        "output = pipe(\n",
        "    'Terve, miten menee?',\n",
        "    do_sample=True,\n",
        "    temperature=10.0,\n",
        "    max_new_tokens=25\n",
        ")\n",
        "\n",
        "print(output[0]['generated_text'])"
      ],
      "metadata": {
        "colab": {
          "base_uri": "https://localhost:8080/"
        },
        "id": "22QjXE88jkim",
        "outputId": "18dcffa1-f745-48a1-d10b-b6175318db3e"
      },
      "execution_count": 7,
      "outputs": [
        {
          "output_type": "stream",
          "name": "stderr",
          "text": [
            "Setting `pad_token_id` to `eos_token_id`:50256 for open-end generation.\n"
          ]
        },
        {
          "output_type": "stream",
          "name": "stdout",
          "text": [
            "Terve, miten menee? Sachgebrift dies eingesind einig- löblichendlicheten i nymm\n"
          ]
        }
      ]
    },
    {
      "cell_type": "markdown",
      "source": [
        "person name recognition"
      ],
      "metadata": {
        "id": "D2vd8lF4sX4n"
      }
    },
    {
      "cell_type": "code",
      "source": [
        "#zero_shot\n",
        "pipe(\"List the person names occurring in the following texts., John and Mary went to the market.\", max_length=40, num_return_sequences=3)"
      ],
      "metadata": {
        "colab": {
          "base_uri": "https://localhost:8080/"
        },
        "id": "_ybr3TT7rOYM",
        "outputId": "ac23995d-b8d3-45d5-fe65-518a4220909a"
      },
      "execution_count": 8,
      "outputs": [
        {
          "output_type": "stream",
          "name": "stderr",
          "text": [
            "Truncation was not explicitly activated but `max_length` is provided a specific value, please use `truncation=True` to explicitly truncate examples to max length. Defaulting to 'longest_first' truncation strategy. If you encode pairs of sequences (GLUE-style) with the tokenizer you can select this strategy more precisely by providing a specific strategy to `truncation`.\n",
            "Setting `pad_token_id` to `eos_token_id`:50256 for open-end generation.\n"
          ]
        },
        {
          "output_type": "execute_result",
          "data": {
            "text/plain": [
              "[{'generated_text': 'List the person names occurring in the following texts., John and Mary went to the market.John and Mary went to Bethany.John and Mary went to Galilee.John and Mary went to Cap'},\n",
              " {'generated_text': 'List the person names occurring in the following texts., John and Mary went to the market. Mary gave her first to him (). Mary was forty, John was thirty. They had three sons. Joseph was'},\n",
              " {'generated_text': 'List the person names occurring in the following texts., John and Mary went to the market. Peter and those who followed followed with them., Jesus took a loaf of unleavened bread., The disciples took'}]"
            ]
          },
          "metadata": {},
          "execution_count": 8
        }
      ]
    },
    {
      "cell_type": "code",
      "source": [
        "#one_shot\n",
        "pipe(['John and Mary went to the market.', \"Sophia and Ethan are siblings.\"], max_length=40, num_return_sequences=3)"
      ],
      "metadata": {
        "colab": {
          "base_uri": "https://localhost:8080/"
        },
        "id": "MKidQVnMpVGj",
        "outputId": "94a56721-4770-457c-969f-427e23b63d58"
      },
      "execution_count": 9,
      "outputs": [
        {
          "output_type": "stream",
          "name": "stderr",
          "text": [
            "Setting `pad_token_id` to `eos_token_id`:50256 for open-end generation.\n",
            "Setting `pad_token_id` to `eos_token_id`:50256 for open-end generation.\n"
          ]
        },
        {
          "output_type": "execute_result",
          "data": {
            "text/plain": [
              "[[{'generated_text': 'John and Mary went to the market. They asked for a cask of rum as usual, but the seller said that he had no more in stock. \"We\\'ll have the rum before you,\"'},\n",
              "  {'generated_text': 'John and Mary went to the market.\\n\\n15 Then the other Mary said to Elizabeth, \"You have nothing to eat.\"\\n\\n16 But Elizabeth answered her, \"God has given you food'},\n",
              "  {'generated_text': 'John and Mary went to the market.\\n\\n16 And Jesus went and told some of the teachers of the Pharisees and Sadducees in the market place which were teaching in the synagogue'}],\n",
              " [{'generated_text': 'Sophia and Ethan are siblings.\\n\\nSophia and Ethan were adopted and raised in the U.S. after their mother was incarcerated for committing the \"deadly sins\" of incest'},\n",
              "  {'generated_text': 'Sophia and Ethan are siblings. They have lived alone in the house for years. Sophia is a student at Caltech, and wants to study biology. Ethan is a student at the college to'},\n",
              "  {'generated_text': \"Sophia and Ethan are siblings. Sophia is the younger sister of Sophia II (I don't know the actual age but that's probably what the name means).\\n\\nEthan and Sophia (\"}]]"
            ]
          },
          "metadata": {},
          "execution_count": 9
        }
      ]
    },
    {
      "cell_type": "code",
      "source": [
        "#two_shot\n",
        "pipe(['John and Mary went to the market.', \"Sophia and Ethan are siblings.\", \"Tom and Sarah are best friends.\"], max_length=40, num_return_sequences=3)"
      ],
      "metadata": {
        "colab": {
          "base_uri": "https://localhost:8080/"
        },
        "id": "VvzhdfR1pXA8",
        "outputId": "50bc38f3-e137-4f4a-bbb8-357a67311162"
      },
      "execution_count": 10,
      "outputs": [
        {
          "output_type": "stream",
          "name": "stderr",
          "text": [
            "Setting `pad_token_id` to `eos_token_id`:50256 for open-end generation.\n",
            "Setting `pad_token_id` to `eos_token_id`:50256 for open-end generation.\n",
            "Setting `pad_token_id` to `eos_token_id`:50256 for open-end generation.\n"
          ]
        },
        {
          "output_type": "execute_result",
          "data": {
            "text/plain": [
              "[[{'generated_text': 'John and Mary went to the market. After making some small talk at one of the stalls, he asked me, \"Where are the sheep? Jesus is coming soon.\" I couldn\\'t think what to'},\n",
              "  {'generated_text': 'John and Mary went to the market.\\n\\nThey were there for two hours. One of them called me to come back. We went to the church and ate the Lenten meal. In the'},\n",
              "  {'generated_text': 'John and Mary went to the market.\\n\\nAt the counter, an old man told John, \"It is bad luck if you fail. Just wait half an hour, and it will be over'}],\n",
              " [{'generated_text': 'Sophia and Ethan are siblings. They are the only ones in the original series who are not clones.\\n\\nOscar and Nicole in the original series also seemed to have a lot in common'},\n",
              "  {'generated_text': \"Sophia and Ethan are siblings. He, also a scientist, is in fact related to Mia's boyfriend from the future, whose name is Miles O'Brien, although he can't get her\"},\n",
              "  {'generated_text': \"Sophia and Ethan are siblings. Sophia is a super intelligent character and is a scientist in her own right. The other female lead is a detective named Emily Miller. Sophia's parents were arrested for\"}],\n",
              " [{'generated_text': 'Tom and Sarah are best friends. They got a new boyfriend a few years back, who left Sarah pregnant because she \"didn\\'t love him enough\". After the birth of their child, Sarah came out'},\n",
              "  {'generated_text': 'Tom and Sarah are best friends. Sarah is a very good cook, but what she lacks, Sarah makes up for in her beautiful smile and her contagious laugh.\\n\\nSarah and I used to make'},\n",
              "  {'generated_text': 'Tom and Sarah are best friends. She\\'s a teacher, she\\'s a researcher, she\\'s a very tough and hard-working lady and she really isn\\'t afraid to challenge herself.\"\\n\\nAdvertisement'}]]"
            ]
          },
          "metadata": {},
          "execution_count": 10
        }
      ]
    },
    {
      "cell_type": "code",
      "source": [
        "#zero_shot\n",
        "pipe(\"This is a first grade math exam. calculate this addition: 1 '+' 2 =\", max_length=40, num_return_sequences=3)"
      ],
      "metadata": {
        "colab": {
          "base_uri": "https://localhost:8080/"
        },
        "id": "baDE0-sXvq2G",
        "outputId": "1986465b-9ba8-4542-eefc-159d914f72c1"
      },
      "execution_count": 11,
      "outputs": [
        {
          "output_type": "stream",
          "name": "stderr",
          "text": [
            "Setting `pad_token_id` to `eos_token_id`:50256 for open-end generation.\n"
          ]
        },
        {
          "output_type": "execute_result",
          "data": {
            "text/plain": [
              "[{'generated_text': \"This is a first grade math exam. calculate this addition: 1 '+' 2 =' 3 '+' 4 '+' 5 '+' 6 ='7 '+' 8 '\"},\n",
              " {'generated_text': \"This is a first grade math exam. calculate this addition: 1 '+' 2 = 3, multiply by 2 and then 4. It's a second grade algebra exam.\\n\\nAlgebra is\"},\n",
              " {'generated_text': \"This is a first grade math exam. calculate this addition: 1 '+' 2 =' 3 and so on, all the way round, one line at a time. (We'll have an\"}]"
            ]
          },
          "metadata": {},
          "execution_count": 11
        }
      ]
    },
    {
      "cell_type": "markdown",
      "source": [
        "two-digit addition (e.g. 11 + 22 = 33)"
      ],
      "metadata": {
        "id": "WSiw3h0Usaob"
      }
    },
    {
      "cell_type": "code",
      "source": [
        "#one_shot\n",
        "pipe([\"This is a first grade math exam. calculate this addition: 1 '+' 2 =\", \"This is a first grade math exam. calculate this addition: 11 '+' 22 =\"], max_length=40, num_return_sequences=6)"
      ],
      "metadata": {
        "colab": {
          "base_uri": "https://localhost:8080/"
        },
        "id": "Q8fuSolnsa_e",
        "outputId": "80d26b35-72d5-438a-ae47-41abad9a9d55"
      },
      "execution_count": 12,
      "outputs": [
        {
          "output_type": "stream",
          "name": "stderr",
          "text": [
            "Setting `pad_token_id` to `eos_token_id`:50256 for open-end generation.\n",
            "Setting `pad_token_id` to `eos_token_id`:50256 for open-end generation.\n"
          ]
        },
        {
          "output_type": "execute_result",
          "data": {
            "text/plain": [
              "[[{'generated_text': \"This is a first grade math exam. calculate this addition: 1 '+' 2 = 3, and the answer is 3.\\n\\n\\nThis is a first grade spelling, history, grammar, and\"},\n",
              "  {'generated_text': \"This is a first grade math exam. calculate this addition: 1 '+' 2 = 3 3+ = 4\\n\\n2×3 equals 3.\\n\\n4×4 equals 4.\\n\"},\n",
              "  {'generated_text': \"This is a first grade math exam. calculate this addition: 1 '+' 2 = 3 3 + 2 = 5 So we want to: add 1 '+' 2\\n\\nadd 3 '\"},\n",
              "  {'generated_text': \"This is a first grade math exam. calculate this addition: 1 '+' 2 ='3' and if you want to multiply it by two, multiply: 1 '+' 2 +'\"},\n",
              "  {'generated_text': \"This is a first grade math exam. calculate this addition: 1 '+' 2 = +' + 2. add + 1 2. 2 + 2. add - 1 2. 5 - 2\"},\n",
              "  {'generated_text': \"This is a first grade math exam. calculate this addition: 1 '+' 2 = 2 '+' 3 = 3 =\\n\\nThis is a first grade algebra exam. calculate this subtraction\"}],\n",
              " [{'generated_text': \"This is a first grade math exam. calculate this addition: 11 '+' 22 = 100+12'+8 '+9'+12 = 200.\\n\\nWe can add 10 to\"},\n",
              "  {'generated_text': 'This is a first grade math exam. calculate this addition: 11 \\'+\\' 22 = \\'32\" \\'+\\' 42 = \\'72\\' You will find that you are correct in your answer.'},\n",
              "  {'generated_text': \"This is a first grade math exam. calculate this addition: 11 '+' 22 = 54 '+' 1 + '20 = 24 '+' 1 + '11 = 16 '+'\"},\n",
              "  {'generated_text': \"This is a first grade math exam. calculate this addition: 11 '+' 22 =' +' 3 =4 'Now multiply: 29=' +' 2 =' +' 3 '\"},\n",
              "  {'generated_text': \"This is a first grade math exam. calculate this addition: 11 '+' 22 = '4' 1 1\\n\\n23. Add up 23 and 24. divide by 6 to get 6 (\"},\n",
              "  {'generated_text': \"This is a first grade math exam. calculate this addition: 11 '+' 22 = 25\\n\\nThis is a 4 th grade math exam. calculate this subtraction: 2 '-' 0\"}]]"
            ]
          },
          "metadata": {},
          "execution_count": 12
        }
      ]
    },
    {
      "cell_type": "code",
      "source": [
        "#two_shot\n",
        "pipe([\"This is a first grade math exam. calculate this addition: 1 '+' 2 =\", \"This is a first grade math exam. calculate this addition: 11 '+' 22 =\", \"This is a first grade math exam. calculate this addition: 7 '+' 8 =\"], max_length=40, num_return_sequences=9)"
      ],
      "metadata": {
        "colab": {
          "base_uri": "https://localhost:8080/"
        },
        "id": "I2XY9OlCtcXt",
        "outputId": "e9a961f0-c0f8-4fe7-8f88-982eb1f7bad4"
      },
      "execution_count": 13,
      "outputs": [
        {
          "output_type": "stream",
          "name": "stderr",
          "text": [
            "Setting `pad_token_id` to `eos_token_id`:50256 for open-end generation.\n",
            "Setting `pad_token_id` to `eos_token_id`:50256 for open-end generation.\n",
            "Setting `pad_token_id` to `eos_token_id`:50256 for open-end generation.\n"
          ]
        },
        {
          "output_type": "execute_result",
          "data": {
            "text/plain": [
              "[[{'generated_text': \"This is a first grade math exam. calculate this addition: 1 '+' 2 = 2 3 + 2 4 = 4 The answer is 1. We need to multiply 4 by 2. How many\"},\n",
              "  {'generated_text': \"This is a first grade math exam. calculate this addition: 1 '+' 2 = 3, 4 + 1 = 5, 5+2 = 7, 7/2 2 = 8, 8\"},\n",
              "  {'generated_text': \"This is a first grade math exam. calculate this addition: 1 '+' 2 = 3, 3 1 + 2 (1 + 2) = 5, 5 This is a first grade grammar exam\"},\n",
              "  {'generated_text': \"This is a first grade math exam. calculate this addition: 1 '+' 2 = 3 5 '+' 3 = 4 11 '+' 4 = 5 16 '+' 5 = 6\"},\n",
              "  {'generated_text': \"This is a first grade math exam. calculate this addition: 1 '+' 2 = 3 Note, that 5+3=10 is not an addition and thus the result is an odd numeral\"},\n",
              "  {'generated_text': \"This is a first grade math exam. calculate this addition: 1 '+' 2 =3 '+' 4 =5 Now add these two together and you know the answer.\\n\\n(And\"},\n",
              "  {'generated_text': \"This is a first grade math exam. calculate this addition: 1 '+' 2 = 6 (for 1+2) 3-4 3+4 +3+4 = 8 (for 3\"},\n",
              "  {'generated_text': \"This is a first grade math exam. calculate this addition: 1 '+' 2 = 2: The square roots of 12 are the product of the numerator, the denominator, and the square\"},\n",
              "  {'generated_text': \"This is a first grade math exam. calculate this addition: 1 '+' 2 = 6: 7 : 1 + 2 = 4\\n\\n1 + 2 = 4 You'll find that the answer\"}],\n",
              " [{'generated_text': \"This is a first grade math exam. calculate this addition: 11 '+' 22 ='+'+'+'+'+'+'+' 24 ='+'+'\"},\n",
              "  {'generated_text': \"This is a first grade math exam. calculate this addition: 11 '+' 22 =' +' 36 ='\\n\\n4. You are only to be given one piece of information, and\"},\n",
              "  {'generated_text': \"This is a first grade math exam. calculate this addition: 11 '+' 22 = 31 - 0.01'+ 0.2 = 29'+ 0.1 = 27'+ 0\"},\n",
              "  {'generated_text': \"This is a first grade math exam. calculate this addition: 11 '+' 22 = 100 x 3\"},\n",
              "  {'generated_text': \"This is a first grade math exam. calculate this addition: 11 '+' 22 = '5'. this is the sum of the 2's and the 5's. (3+4=6\"},\n",
              "  {'generated_text': \"This is a first grade math exam. calculate this addition: 11 '+' 22 = 38; 23 '-+' 16 = 37; 24 '-' 3 = 34; 25 '0-'\"},\n",
              "  {'generated_text': \"This is a first grade math exam. calculate this addition: 11 '+' 22 ='+'+22=12'+12=13'=13=13+13+13+\"},\n",
              "  {'generated_text': \"This is a first grade math exam. calculate this addition: 11 '+' 22 = 12. add and product two together = 12. product and sum of two numbers = 12(2). Sum\"},\n",
              "  {'generated_text': \"This is a first grade math exam. calculate this addition: 11 '+' 22 =' '+' 26 =10 '+' 27=22 15+9 '+' 5 =13\"}],\n",
              " [{'generated_text': \"This is a first grade math exam. calculate this addition: 7 '+' 8 = 15. The second grade problem gives a second grade solution. So the exam is written first and then asked again\"},\n",
              "  {'generated_text': \"This is a first grade math exam. calculate this addition: 7 '+' 8 = 10 + 2 = 11.\\n\\nHere is an example: You are an 8-year-old girl\"},\n",
              "  {'generated_text': \"This is a first grade math exam. calculate this addition: 7 '+' 8 = 8.9 In this equation, '+' means add another digit to the number 7. '+'\"},\n",
              "  {'generated_text': \"This is a first grade math exam. calculate this addition: 7 '+' 8 =' 8' +' 2 =' 8 7 ='8.'8' +' 3 =' 8\"},\n",
              "  {'generated_text': \"This is a first grade math exam. calculate this addition: 7 '+' 8 = 9, 9 = 12. The total sum is 13, 13 = 15. The answer is 8.\\n\"},\n",
              "  {'generated_text': \"This is a first grade math exam. calculate this addition: 7 '+' 8 =' 9 =' 10 +' 11 =' 12 =' 13 +' 14 =' 15 ='\"},\n",
              "  {'generated_text': 'This is a first grade math exam. calculate this addition: 7 \\'+\\' 8 =\\' +\\' 1\\' =\" + 1\\' -\\'1 =\\' =\" =\\' -\\'10'},\n",
              "  {'generated_text': \"This is a first grade math exam. calculate this addition: 7 '+' 8 = '8' and you will add '10' and get an answer of '10'. How am I supposed\"},\n",
              "  {'generated_text': \"This is a first grade math exam. calculate this addition: 7 '+' 8 =9 and to do this we will use a constant, 5 is a non negative number so 5 times 5 equals\"}]]"
            ]
          },
          "metadata": {},
          "execution_count": 13
        }
      ]
    },
    {
      "cell_type": "markdown",
      "source": [
        "binary sentiment classification (positive / negative)"
      ],
      "metadata": {
        "id": "F8Y53zzzylSU"
      }
    },
    {
      "cell_type": "code",
      "source": [
        "#zero_shot\n",
        "pipe(\"Do the following texts express a positive or negative sentiment? Sarah is happy these days.\", max_length=40, num_return_sequences=3)"
      ],
      "metadata": {
        "colab": {
          "base_uri": "https://localhost:8080/"
        },
        "id": "VJu5RzOgwqEx",
        "outputId": "bc8ecf04-c715-4ae1-ff63-a4543de412a5"
      },
      "execution_count": 14,
      "outputs": [
        {
          "output_type": "stream",
          "name": "stderr",
          "text": [
            "Setting `pad_token_id` to `eos_token_id`:50256 for open-end generation.\n"
          ]
        },
        {
          "output_type": "execute_result",
          "data": {
            "text/plain": [
              "[{'generated_text': 'Do the following texts express a positive or negative sentiment? Sarah is happy these days. Is it time for me to leave? David hates that my clothes are so dirty. Will we break up? Do'},\n",
              " {'generated_text': 'Do the following texts express a positive or negative sentiment? Sarah is happy these days.\\n\\nThis page contains both negative and positive affirmations. For both of the texts used below, we see the'},\n",
              " {'generated_text': 'Do the following texts express a positive or negative sentiment? Sarah is happy these days. I love that he likes her so much.\\n\\nWhy does Michael break up with Sarah, and what makes him'}]"
            ]
          },
          "metadata": {},
          "execution_count": 14
        }
      ]
    },
    {
      "cell_type": "code",
      "source": [
        "#one_shot\n",
        "pipe([\"Do the following texts express a positive or negative sentiment? Sarah is happy these days.\", \"Do the following texts express a positive or negative sentiment? Sarah and Tom aer enjoying the life and are happy these days.\"], max_length=40, num_return_sequences=6)"
      ],
      "metadata": {
        "colab": {
          "base_uri": "https://localhost:8080/"
        },
        "id": "KUjEtVlCyoON",
        "outputId": "546a842f-373c-42f6-c78e-a617c7291a07"
      },
      "execution_count": 15,
      "outputs": [
        {
          "output_type": "stream",
          "name": "stderr",
          "text": [
            "Setting `pad_token_id` to `eos_token_id`:50256 for open-end generation.\n",
            "Setting `pad_token_id` to `eos_token_id`:50256 for open-end generation.\n"
          ]
        },
        {
          "output_type": "execute_result",
          "data": {
            "text/plain": [
              "[[{'generated_text': 'Do the following texts express a positive or negative sentiment? Sarah is happy these days. Can you describe the happy feeling on your part and in Sarah\\'s? If the text has the word \"thumbs'},\n",
              "  {'generated_text': 'Do the following texts express a positive or negative sentiment? Sarah is happy these days. She has some new friends. What do you think?\\n\\n(1) Sarah is happy. She has some'},\n",
              "  {'generated_text': \"Do the following texts express a positive or negative sentiment? Sarah is happy these days. That's amazing Sarah is so beautiful and is very loved Sarah wants to tell her boyfriend she loved him as much as\"},\n",
              "  {'generated_text': 'Do the following texts express a positive or negative sentiment? Sarah is happy these days. She has new shoes, new food, new clothes - she can get what she wants. But at that time,'},\n",
              "  {'generated_text': 'Do the following texts express a positive or negative sentiment? Sarah is happy these days. Sarah is sad. Sarah is angry. But Sarah is alive; happy; sad; angry.\\n\\n(It'},\n",
              "  {'generated_text': 'Do the following texts express a positive or negative sentiment? Sarah is happy these days. All the things she has missed are all he will ever know. Is it possible for happiness to take the form of'}],\n",
              " [{'generated_text': \"Do the following texts express a positive or negative sentiment? Sarah and Tom aer enjoying the life and are happy these days. Do they enjoy each other's company? Tom loves Sarah. Sarah always tells Tom\"},\n",
              "  {'generated_text': 'Do the following texts express a positive or negative sentiment? Sarah and Tom aer enjoying the life and are happy these days. They can talk freely about their emotions with people but it is rare. Sarah,'},\n",
              "  {'generated_text': \"Do the following texts express a positive or negative sentiment? Sarah and Tom aer enjoying the life and are happy these days.\\n\\nTom: You don't want to do anything wrong, it's like\"},\n",
              "  {'generated_text': 'Do the following texts express a positive or negative sentiment? Sarah and Tom aer enjoying the life and are happy these days. Is her wife a good wife?\\n\\nSara, Tom and Sara are'},\n",
              "  {'generated_text': \"Do the following texts express a positive or negative sentiment? Sarah and Tom aer enjoying the life and are happy these days. Tom is not so sure his friend's are so happy. Tom: How do\"},\n",
              "  {'generated_text': 'Do the following texts express a positive or negative sentiment? Sarah and Tom aer enjoying the life and are happy these days. Sarah: Tom, are you sure this place is a good place? You say'}]]"
            ]
          },
          "metadata": {},
          "execution_count": 15
        }
      ]
    },
    {
      "cell_type": "code",
      "source": [
        "#two_shot\n",
        "pipe([\"Do the following texts express a positive or negative sentiment? Sarah is happy these days.\", \"Do the following texts express a positive or negative sentiment? Sarah and Tom aer enjoying the life and are happy these days.\", \"Do the following texts express a positive or negative sentiment? The audiences were very sad to see such disasters around the world and want to help people.\"], max_length=40, num_return_sequences=9)"
      ],
      "metadata": {
        "colab": {
          "base_uri": "https://localhost:8080/"
        },
        "id": "4aldHZTPypVK",
        "outputId": "bd68b4d5-f590-4d23-a058-e92b61c6b6a2"
      },
      "execution_count": 16,
      "outputs": [
        {
          "output_type": "stream",
          "name": "stderr",
          "text": [
            "Setting `pad_token_id` to `eos_token_id`:50256 for open-end generation.\n",
            "Setting `pad_token_id` to `eos_token_id`:50256 for open-end generation.\n",
            "Setting `pad_token_id` to `eos_token_id`:50256 for open-end generation.\n"
          ]
        },
        {
          "output_type": "execute_result",
          "data": {
            "text/plain": [
              "[[{'generated_text': 'Do the following texts express a positive or negative sentiment? Sarah is happy these days. Sarah wants everyone to do well. Sarah wants Sarah to be happy. Sarah is happy. Sarah wants everyone to do'},\n",
              "  {'generated_text': \"Do the following texts express a positive or negative sentiment? Sarah is happy these days. Sarah hates these days. Sarah hates these days Sarah likes this week Sarah likes this week Sarah doesn't like this week\"},\n",
              "  {'generated_text': \"Do the following texts express a positive or negative sentiment? Sarah is happy these days. This is a good thing. I'm sorry, you did something wrong, and your mother is mad at you.\"},\n",
              "  {'generated_text': 'Do the following texts express a positive or negative sentiment? Sarah is happy these days. Would Sarah get married or get divorced if she had known what her husband was really like? Sarah is still a little'},\n",
              "  {'generated_text': \"Do the following texts express a positive or negative sentiment? Sarah is happy these days. She's feeling great about what she's doing. When she has a bad day, she just cries and cries.\"},\n",
              "  {'generated_text': \"Do the following texts express a positive or negative sentiment? Sarah is happy these days.\\n\\nHe's been gone for twenty years. In many ways, since he left the job for which he was\"},\n",
              "  {'generated_text': 'Do the following texts express a positive or negative sentiment? Sarah is happy these days. Sarah has a beautiful wife. You can make a positive comment about Sarah. Sarah is a wonderful friend. Sarah seems'},\n",
              "  {'generated_text': 'Do the following texts express a positive or negative sentiment? Sarah is happy these days. The car has gotten a lot of use on the weekend and all the people seem to like what she thinks. The'},\n",
              "  {'generated_text': \"Do the following texts express a positive or negative sentiment? Sarah is happy these days. That's right, even if that is a rare statement when one considers what Sarah says she feels.\\n\\n\\nIf\"}],\n",
              " [{'generated_text': \"Do the following texts express a positive or negative sentiment? Sarah and Tom aer enjoying the life and are happy these days. A year ago I wouldn't have done that. What do you think we will\"},\n",
              "  {'generated_text': 'Do the following texts express a positive or negative sentiment? Sarah and Tom aer enjoying the life and are happy these days. This text expresses a negative sentiment and does not appear on the web site. It'},\n",
              "  {'generated_text': \"Do the following texts express a positive or negative sentiment? Sarah and Tom aer enjoying the life and are happy these days. Would feel happier in real life. 'Happy in Real Life'\\n\\n'\"},\n",
              "  {'generated_text': \"Do the following texts express a positive or negative sentiment? Sarah and Tom aer enjoying the life and are happy these days. It is hard to know what is the right answer. Sarah's diary\\n\\n\"},\n",
              "  {'generated_text': 'Do the following texts express a positive or negative sentiment? Sarah and Tom aer enjoying the life and are happy these days.\\n\\nPasquale and Laura thinking about the future and are content to'},\n",
              "  {'generated_text': 'Do the following texts express a positive or negative sentiment? Sarah and Tom aer enjoying the life and are happy these days. What is the most frustrating experience for the readers? They are an active book for'},\n",
              "  {'generated_text': \"Do the following texts express a positive or negative sentiment? Sarah and Tom aer enjoying the life and are happy these days. Did Sarah and Tom have children? No. But did Sarah's mother have children\"},\n",
              "  {'generated_text': 'Do the following texts express a positive or negative sentiment? Sarah and Tom aer enjoying the life and are happy these days. Tom wants to see his family. How would you feel about this?\\n\\n'},\n",
              "  {'generated_text': 'Do the following texts express a positive or negative sentiment? Sarah and Tom aer enjoying the life and are happy these days.\\n\\nI am glad the car is getting used more and more now and Sarah'}],\n",
              " [{'generated_text': 'Do the following texts express a positive or negative sentiment? The audiences were very sad to see such disasters around the world and want to help people. Many students think the way they behave in these events cannot'},\n",
              "  {'generated_text': 'Do the following texts express a positive or negative sentiment? The audiences were very sad to see such disasters around the world and want to help people. They would do anything to help. How do you address'},\n",
              "  {'generated_text': 'Do the following texts express a positive or negative sentiment? The audiences were very sad to see such disasters around the world and want to help people.\\n\\nWhat do the writers have in common? The'},\n",
              "  {'generated_text': 'Do the following texts express a positive or negative sentiment? The audiences were very sad to see such disasters around the world and want to help people. In my poems, many are expressing a wish to help'},\n",
              "  {'generated_text': 'Do the following texts express a positive or negative sentiment? The audiences were very sad to see such disasters around the world and want to help people. The audience wants to help people. The audiences is interested'},\n",
              "  {'generated_text': 'Do the following texts express a positive or negative sentiment? The audiences were very sad to see such disasters around the world and want to help people. Do you have any message for this audience? Do you'},\n",
              "  {'generated_text': 'Do the following texts express a positive or negative sentiment? The audiences were very sad to see such disasters around the world and want to help people.\\n\\nTo see if a message is likely to make'},\n",
              "  {'generated_text': 'Do the following texts express a positive or negative sentiment? The audiences were very sad to see such disasters around the world and want to help people. Their response was positive and encouraging. We did a simple'},\n",
              "  {'generated_text': 'Do the following texts express a positive or negative sentiment? The audiences were very sad to see such disasters around the world and want to help people. There are many words that they could use, but I'}]]"
            ]
          },
          "metadata": {},
          "execution_count": 16
        }
      ]
    }
  ]
}